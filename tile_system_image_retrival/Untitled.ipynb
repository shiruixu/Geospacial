{
 "cells": [
  {
   "cell_type": "code",
   "execution_count": 1,
   "metadata": {
    "collapsed": true,
    "deletable": true,
    "editable": true
   },
   "outputs": [],
   "source": [
    "import sys, math, urllib.request, io, operator\n",
    "from tile_system import *\n",
    "from PIL import Image\n"
   ]
  },
  {
   "cell_type": "code",
   "execution_count": 2,
   "metadata": {
    "collapsed": true,
    "deletable": true,
    "editable": true
   },
   "outputs": [],
   "source": [
    "def getURL(quadkey):\n",
    "        license_key = \"Aq3bmbTehDPHWHjRsSsw1oKi3z5bYUewA4t0LQp09ZU8HbVvXbW2HXRiFwshMf8h\"\n",
    "        return \"http://h0.ortho.tiles.virtualearth.net/tiles/h%s.jpeg?g=131&key=%s\" % (quadkey, license_key)"
   ]
  },
  {
   "cell_type": "code",
   "execution_count": 3,
   "metadata": {
    "collapsed": true,
    "deletable": true,
    "editable": true
   },
   "outputs": [],
   "source": [
    "def getImageFromQuadkey(quadkey):\n",
    "        socket = urllib.request.urlopen(getURL(quadkey))\n",
    "        print('d')\n",
    "        tinker = socket.read()\n",
    "        img = Image.open(io.BytesIO(tinker))\n",
    "        print('sucessiful')\n",
    "        return img\n",
    "\n",
    "def getLowestQuality(lat1, lon1, lat2, lon2):\n",
    "        '''\n",
    "        Here we search for the lowest Level of Detail that contains minimum number of tiles.\n",
    "        '''\n",
    "        i = 1\n",
    "        for i in range(23, 0, -1):\n",
    "                tx1, ty1 = LatLongToTileXY(lat1, lon1, i)\n",
    "                tx2, ty2 = LatLongToTileXY(lat2, lon2, i)\n",
    "                if tx1 > tx2:\n",
    "                        tx1, tx2 = tx2, tx1\n",
    "                if ty1 > ty2:\n",
    "                        ty1, ty2 = ty2, ty1\n",
    "                if (tx2 - tx1 <= 1) and (ty2 - ty1 <= 1):\n",
    "                        print (\"Lowest Quality found at \"),\n",
    "                        print (i)\n",
    "                        return i, tx1, ty1\n",
    "\n",
    "        \n",
    "def nullResult(img):\n",
    "        '''Compare the query result with the null image. If they match, then Bing server does not have data for that location'''\n",
    "        result = (img == Image.open('null.jpeg'))\n",
    "        print ('null')\n",
    "        return result"
   ]
  },
  {
   "cell_type": "code",
   "execution_count": 5,
   "metadata": {
    "collapsed": false,
    "deletable": true,
    "editable": true
   },
   "outputs": [
    {
     "ename": "SyntaxError",
     "evalue": "invalid syntax (<ipython-input-5-6943165926bb>, line 90)",
     "output_type": "error",
     "traceback": [
      "\u001b[1;36m  File \u001b[1;32m\"<ipython-input-5-6943165926bb>\"\u001b[1;36m, line \u001b[1;32m90\u001b[0m\n\u001b[1;33m    main(55.694191  12.590022  55.688470  12.598863)\u001b[0m\n\u001b[1;37m                            ^\u001b[0m\n\u001b[1;31mSyntaxError\u001b[0m\u001b[1;31m:\u001b[0m invalid syntax\n"
     ]
    }
   ],
   "source": [
    "def main():\n",
    "        lat1 = float(sys.argv[1])\n",
    "        lon1 = float(sys.argv[2])\n",
    "        lat2 = float(sys.argv[3])\n",
    "        lon2 = float(sys.argv[4])\n",
    "\n",
    "        framework = 4096\n",
    "        ministemp = 128\n",
    "        base = Image.new('RGB', (framework, framework))\n",
    "\n",
    "        quality, tx0, ty0 = getLowestQuality(lat1, lon1, lat2, lon2)\n",
    "        curr_tile_size = int(framework/2)\n",
    "        flag = True\n",
    "        q=quality\n",
    "        # we use a while loop and refresh the whole image for lowest quality to the best we can get. and pass the recent base quality image to best\n",
    "        best_quality = base \n",
    "        while q <= 23 and curr_tile_size >= ministemp and flag:\n",
    "\n",
    "                print (\"Current level of detials \",)\n",
    "                print (q)\n",
    "                print (\"curr_tile_size is\",)\n",
    "                print (curr_tile_size)\n",
    "                tx1, ty1 = LatLongToTileXY(lat1, lon1, q)\n",
    "                tx2, ty2 = LatLongToTileXY(lat2, lon2, q)\n",
    "                if tx1 > tx2:\n",
    "                        tx1, tx2 = tx2, tx1\n",
    "                if ty1 > ty2:\n",
    "                        ty1, ty2 = ty2, ty1\n",
    "                for x in range(tx1, tx2+1):\n",
    "                        if not flag:\n",
    "                                break\n",
    "                        for y in range(ty1, ty2+1):\n",
    "                                if not flag:\n",
    "                                        break\n",
    "                                curr_quadKey = TileXYToQuadKey(x, y, q)\n",
    "                                print (\"curr_quadKey is\",)\n",
    "                                print (curr_quadKey)\n",
    "\n",
    "                                try:\n",
    "                                        curr_image = getImageFromQuadkey(curr_quadKey)\n",
    "\n",
    "                                        if not nullResult(curr_image):\n",
    "                                                curr_image = curr_image.resize((curr_tile_size, curr_tile_size))\n",
    "                                                start_x = (x - tx0) * curr_tile_size \n",
    "                                                start_y = (y - ty0) * curr_tile_size\n",
    "                                                end_x = start_x + curr_tile_size\n",
    "                                                end_y = start_y + curr_tile_size\n",
    "                                                base.paste(curr_image, (start_x, start_y, end_x, end_y))\n",
    "                                        else:\n",
    "                                                flag = False\n",
    "                                                print(\"can't find tile:\",)\n",
    "\n",
    "                                                break\n",
    "                                except:\n",
    "                                        print('time out in connecting to server or cannot find more detailed image')\n",
    "                                        flag =False\n",
    "                                        break\n",
    "\n",
    "\n",
    "                tx0 = tx0 * 2\n",
    "                ty0 = ty0 * 2\n",
    "                q += 1\n",
    "                curr_tile_size= int(curr_tile_size/2)\n",
    "                if flag:\n",
    "                        best_quality = base\n",
    "        print (\"Refinary is finished\")\n",
    "        px1,py1=LatLongToPixelXY(lat1, lon1, quality)\n",
    "        px2,py2=LatLongToPixelXY(lat2, lon2, quality)\n",
    "        print(px1,py1)\n",
    "        print(px2,py2)\n",
    "        px1d=8*(px1 % 256)\n",
    "        py1d=8*(py1 % 256)\n",
    "        px2d=8*(px2 % 256)\n",
    "        py2d=8*(py2 % 256)\n",
    "        print(px1d,py1d)\n",
    "        print(px2d,py2d)\n",
    "        raw = best_quality.load()\n",
    "        for aa in range(4096-1):\n",
    "                for bb in range(4096-1):\n",
    "                        if aa<px1d or aa>px2d or bb<py1d or bb>py2d:\n",
    "                                raw[aa,bb]=(250,250,250)\n",
    "                        \n",
    "        print (\"windowing finished\")\n",
    "        best_quality.save('complete.jpeg')\n",
    "\n",
    "\n",
    "        \n",
    "\n",
    "if __name__ == '__main__':\n",
    "        main()\n"
   ]
  },
  {
   "cell_type": "code",
   "execution_count": null,
   "metadata": {
    "collapsed": true,
    "deletable": true,
    "editable": true
   },
   "outputs": [],
   "source": []
  }
 ],
 "metadata": {
  "kernelspec": {
   "display_name": "Python 3",
   "language": "python",
   "name": "python3"
  },
  "language_info": {
   "codemirror_mode": {
    "name": "ipython",
    "version": 3
   },
   "file_extension": ".py",
   "mimetype": "text/x-python",
   "name": "python",
   "nbconvert_exporter": "python",
   "pygments_lexer": "ipython3",
   "version": "3.5.2"
  }
 },
 "nbformat": 4,
 "nbformat_minor": 2
}

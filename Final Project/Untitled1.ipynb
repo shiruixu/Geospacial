{
 "cells": [
  {
   "cell_type": "code",
   "execution_count": 1,
   "metadata": {
    "collapsed": true
   },
   "outputs": [],
   "source": [
    "import numpy as np\n",
    "import matplotlib.pyplot as plt\n",
    "# import autograd functionality\n",
    "import autograd.numpy as np\n",
    "#from autograd.util import flatten_func\n",
    "from autograd.util import flatten_func\n",
    "from autograd import grad as compute_grad   \n",
    "import math\n",
    "import sys\n",
    "# import custom utilities\n",
    "import custom_utilities as util\n",
    "\n",
    "# import various other libraries\n",
    "import copy\n",
    "import matplotlib.pyplot as plt\n",
    "\n",
    "# this is needed to compensate for %matplotl+ib notebook's tendancy to blow up images when plotted inline\n",
    "from matplotlib import rcParams\n",
    "rcParams['figure.autolayout'] = True\n",
    "\n",
    "%matplotlib notebook\n",
    "%load_ext autoreload\n",
    "%autoreload 2"
   ]
  },
  {
   "cell_type": "code",
   "execution_count": 18,
   "metadata": {
    "collapsed": false
   },
   "outputs": [
    {
     "name": "stdout",
     "output_type": "stream",
     "text": [
      "899\n"
     ]
    }
   ],
   "source": [
    "csv = open('d.csv', 'r')\n",
    "data=[]\n",
    "num=0\n",
    "for line in csv:\n",
    "    ls=line.split(\" \")\n",
    "    data.append([float(ls[0]),float(ls[1]),float(ls[2])])\n",
    "    num += 1\n",
    "csv.close()\n",
    "data=np.array(data)\n",
    "#print(data)\n",
    "print(num)\n",
    "x,y,z = data.T"
   ]
  },
  {
   "cell_type": "code",
   "execution_count": 45,
   "metadata": {
    "collapsed": false
   },
   "outputs": [
    {
     "data": {
      "text/plain": [
       "-0.2909350168147818"
      ]
     },
     "execution_count": 45,
     "metadata": {},
     "output_type": "execute_result"
    }
   ],
   "source": [
    "zlist=[]\n",
    "for d in data:\n",
    "    z=pfp_reg(1,x,y,[d[0]],[d[1]])\n",
    "    zlist.append(z)\n",
    "zlist=np.asarray(zlist)\n",
    "#print(zlist)\n",
    "b,k=zlist.T\n",
    "f=(np.max(k)+np.min(k))/2\n",
    "f"
   ]
  },
  {
   "cell_type": "code",
   "execution_count": 20,
   "metadata": {
    "collapsed": true
   },
   "outputs": [],
   "source": [
    "def pfp_reg(n, x, y, xf, yf) :\n",
    "    mat = np.empty((n + 1 + len(xf),) * 2)\n",
    "    vec = np.empty((n + 1 + len(xf),))\n",
    "    x_n = x**np.arange(2 * n + 1)[:, None]\n",
    "    yx_n = np.sum(x_n[:n + 1] * y, axis=1)\n",
    "    x_n = np.sum(x_n, axis=1)\n",
    "    idx = np.arange(n + 1) + np.arange(n + 1)[:, None]\n",
    "    mat[:n + 1, :n + 1] = np.take(x_n, idx)\n",
    "    xf_n = xf**np.arange(n + 1)[:, None]\n",
    "    mat[:n + 1, n + 1:] = xf_n / 2\n",
    "    mat[n + 1:, :n + 1] = xf_n.T\n",
    "    mat[n + 1:, n + 1:] = 0\n",
    "    vec[:n + 1] = yx_n\n",
    "    vec[n + 1:] = yf\n",
    "    params = np.linalg.solve(mat, vec)\n",
    "    return params[:n + 1]"
   ]
  },
  {
   "cell_type": "code",
   "execution_count": 11,
   "metadata": {
    "collapsed": false
   },
   "outputs": [],
   "source": [
    "z2=polyfit_with_fixed_points(1,x,y,[3.0],[0.1])"
   ]
  },
  {
   "cell_type": "code",
   "execution_count": null,
   "metadata": {
    "collapsed": true
   },
   "outputs": [],
   "source": [
    "#randomly select all points for the linear regression\n",
    "#sample = np.array(random.sample(list(model), 4300))\n",
    "sample=data\n",
    "#print(np.ones(len(sample))[:, np.newaxis])\n",
    "sample_pos=np.concatenate((np.ones(len(sample))[:, np.newaxis],sample[:,:-1]),axis=1)\n",
    "#print(sample_pos)"
   ]
  },
  {
   "cell_type": "code",
   "execution_count": 14,
   "metadata": {
    "collapsed": false
   },
   "outputs": [
    {
     "name": "stdout",
     "output_type": "stream",
     "text": [
      "[ 0.88947368 -0.26315789]\n"
     ]
    }
   ],
   "source": [
    "# gradient descent function\n",
    "def gradient_descent(g,w,alpha,max_its,beta,version):    \n",
    "    # flatten the input function, create gradient based on flat function\n",
    "    g_flat, unflatten, w = flatten_func(g, w)\n",
    "    grad = compute_grad(g_flat)\n",
    "\n",
    "    # record history\n",
    "    w_hist = []\n",
    "    w_hist.append(unflatten(w))\n",
    "\n",
    "    # start gradient descent loop\n",
    "    z = np.zeros((np.shape(w)))      # momentum term\n",
    "    \n",
    "    # over the line\n",
    "    for k in range(max_its):   \n",
    "        # plug in value into func and derivative\n",
    "        grad_eval = grad(w)\n",
    "        grad_eval.shape = np.shape(w)\n",
    "\n",
    "        ### normalized or unnormalized descent step? ###\n",
    "        if version == 'normalized':\n",
    "            grad_norm = np.linalg.norm(grad_eval)\n",
    "            if grad_norm == 0:\n",
    "                grad_norm += 10**-6*np.sign(2*np.random.rand(1) - 1)\n",
    "            grad_eval /= grad_norm\n",
    "            \n",
    "        # take descent step with momentum\n",
    "        z = beta*z + grad_eval\n",
    "        w = w - alpha*z\n",
    "\n",
    "        # record weight update\n",
    "        w_hist.append(unflatten(w))\n",
    "\n",
    "    return w_hist"
   ]
  },
  {
   "cell_type": "code",
   "execution_count": 13,
   "metadata": {
    "collapsed": false
   },
   "outputs": [
    {
     "data": {
      "image/png": "[encoded data removed]",
      "text/plain": [
       "<matplotlib.figure.Figure at 0x1e303bb0a20>"
      ]
     },
     "metadata": {},
     "output_type": "display_data"
    }
   ],
   "source": [
    "# normalize a dataset\n",
    "sample_pos_means = np.mean(sample_pos,axis = 0)\n",
    "sample_pos_stds = np.std(sample_pos,axis = 0)\n",
    "\n",
    "# a normalization function \n",
    "def normalize(data,data_mean,data_std):\n",
    "    normalized_data = (data - data_mean)/data_std\n",
    "    return normalized_data\n",
    "# normalize data using the function above\n",
    "#x_orig = copy.deepcopy(x)     # make a copy of the original input\n",
    "#print(sample_pos_means,sample_pos_stds)\n",
    "sample_pos_norm = normalize(sample_pos[:,1:],sample_pos_means[1:],sample_pos_stds[1:])\n",
    "sample_pos_norm = np.concatenate((np.ones(len(sample_pos))[:, np.newaxis],sample_pos_norm),axis=1)\n",
    "#print(sample_pos_norm)\n",
    "z_norm = sample_pos_norm[:,-1][:,np.newaxis]\n",
    "#z_norm.shape(len(z_norm,1))\n",
    "data_norm = sample_pos_norm[:,:-1]"
   ]
  },
  {
   "cell_type": "code",
   "execution_count": null,
   "metadata": {
    "collapsed": true
   },
   "outputs": [],
   "source": [
    "w = np.random.randn(2,1)*0.01\n",
    "print(w)\n",
    "# least squares MSE rergession\n",
    "least_squares = lambda w: np.sum((np.dot(data_norm,w) - z_norm)**4)\n",
    "alpha = 10**(-3)\n",
    "max_its = 800"
   ]
  },
  {
   "cell_type": "code",
   "execution_count": null,
   "metadata": {
    "collapsed": true
   },
   "outputs": [],
   "source": [
    "# run gradient descent\n",
    "weight_history = gradient_descent(least_squares,w,alpha,max_its,beta = 0,version = 'normalized')\n",
    "\n",
    "# plot cost function history\n",
    "cost_history = [least_squares(v) for v in weight_history]\n",
    "histories = [cost_history]"
   ]
  },
  {
   "cell_type": "code",
   "execution_count": null,
   "metadata": {
    "collapsed": true
   },
   "outputs": [],
   "source": [
    "# plot everything\n",
    "demo = util.Visualizer()\n",
    "demo.compare_regression_histories(histories)"
   ]
  }
 ],
 "metadata": {
  "kernelspec": {
   "display_name": "Python 3",
   "language": "python",
   "name": "python3"
  },
  "language_info": {
   "codemirror_mode": {
    "name": "ipython",
    "version": 3
   },
   "file_extension": ".py",
   "mimetype": "text/x-python",
   "name": "python",
   "nbconvert_exporter": "python",
   "pygments_lexer": "ipython3",
   "version": "3.5.2"
  }
 },
 "nbformat": 4,
 "nbformat_minor": 2
}

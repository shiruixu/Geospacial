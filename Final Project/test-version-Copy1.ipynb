{
 "cells": [
  {
   "cell_type": "code",
   "execution_count": 34,
   "metadata": {
    "collapsed": true,
    "deletable": true,
    "editable": true
   },
   "outputs": [],
   "source": [
    "#import numpy as np\n",
    "from autograd.util import flatten_func\n",
    "from autograd import grad as compute_grad   \n",
    "import matplotlib.pyplot as plt\n",
    "import matplotlib.mlab as mlab\n",
    "from sklearn import linear_model\n",
    "from sklearn.cluster import KMeans\n",
    "import math\n",
    "import autograd.numpy as np\n",
    "import custom_utilities as util\n",
    "\n",
    "get_ipython().run_line_magic('matplotlib', 'inline')"
   ]
  },
  {
   "cell_type": "code",
   "execution_count": 35,
   "metadata": {
    "collapsed": false,
    "deletable": true,
    "editable": true
   },
   "outputs": [
    {
     "name": "stdout",
     "output_type": "stream",
     "text": [
      "430736\n"
     ]
    }
   ],
   "source": [
    "csv = open('final_project_data/final_project_point_cloud.fuse', 'r')\n",
    "data=[]\n",
    "num=0\n",
    "for line in csv:\n",
    "    ls=line.split(\" \")\n",
    "    data.append([float(ls[0]),float(ls[1]),float(ls[2]),float(ls[3][:-1])])\n",
    "    num += 1\n",
    "csv.close()\n",
    "data=np.array(data)\n",
    "#print(data)\n",
    "print(num)\n",
    "lat, long, height, i = data.T"
   ]
  },
  {
   "cell_type": "code",
   "execution_count": 46,
   "metadata": {
    "collapsed": true
   },
   "outputs": [],
   "source": [
    "sample_pos_norm = normalize(sample_pos[:,1:],sample_pos_means[1:],sample_pos_stds[1:])\n",
    "sample_pos_norm = np.concatenate((np.ones(len(sample_pos))[:, np.newaxis],sample_pos_norm),axis=1)\n",
    "#print(sample_pos_norm)\n",
    "z_norm = sample_pos_norm[:,-1][:,np.newaxis]\n",
    "#z_norm.shape(len(z_norm,1))\n",
    "data_norm = sample_pos_norm[:,:-1]"
   ]
  },
  {
   "cell_type": "code",
   "execution_count": 72,
   "metadata": {
    "collapsed": false
   },
   "outputs": [
    {
     "name": "stdout",
     "output_type": "stream",
     "text": [
      "[[-0.00923875]\n",
      " [-0.02122652]\n",
      " [ 0.00601776]]\n"
     ]
    }
   ],
   "source": []
  },
  {
   "cell_type": "code",
   "execution_count": 73,
   "metadata": {
    "collapsed": false
   },
   "outputs": [],
   "source": []
  },
  {
   "cell_type": "code",
   "execution_count": 74,
   "metadata": {
    "collapsed": false
   },
   "outputs": [
    {
     "data": {
      "image/png": "[encoded data removed]",
      "text/plain": [
       "<matplotlib.figure.Figure at 0x2ce9d459cf8>"
      ]
     },
     "metadata": {},
     "output_type": "display_data"
    }
   ],
   "source": []
  },
  {
   "cell_type": "code",
   "execution_count": 75,
   "metadata": {
    "collapsed": true
   },
   "outputs": [],
   "source": [
    "#print(weight_history[-1])\n",
    "final_w_norm = weight_history[-1]\n",
    "#threshold numbers\n",
    "thresholds = (z_norm-np.dot(data_norm,final_w_norm))**2\n",
    "print(thresholds.shape)\n",
    "print(thresholds)"
   ]
  },
  {
   "cell_type": "code",
   "execution_count": 76,
   "metadata": {
    "collapsed": false
   },
   "outputs": [
    {
     "ename": "TypeError",
     "evalue": "object of type 'LinearRegression' has no len()",
     "output_type": "error",
     "traceback": [
      "\u001b[1;31m---------------------------------------------------------------------------\u001b[0m",
      "\u001b[1;31mTypeError\u001b[0m                                 Traceback (most recent call last)",
      "\u001b[1;32m<ipython-input-76-bd43943c0792>\u001b[0m in \u001b[0;36m<module>\u001b[1;34m()\u001b[0m\n\u001b[0;32m      1\u001b[0m \u001b[0mdata_filtered_z\u001b[0m \u001b[1;33m=\u001b[0m \u001b[1;33m[\u001b[0m\u001b[1;33m]\u001b[0m\u001b[1;33m\u001b[0m\u001b[0m\n\u001b[1;32m----> 2\u001b[1;33m \u001b[1;32mfor\u001b[0m \u001b[0md\u001b[0m \u001b[1;32min\u001b[0m \u001b[0mrange\u001b[0m\u001b[1;33m(\u001b[0m\u001b[0mlen\u001b[0m\u001b[1;33m(\u001b[0m\u001b[0mmodel\u001b[0m\u001b[1;33m)\u001b[0m\u001b[1;33m)\u001b[0m\u001b[1;33m:\u001b[0m\u001b[1;33m\u001b[0m\u001b[0m\n\u001b[0m\u001b[0;32m      3\u001b[0m     \u001b[1;32mif\u001b[0m \u001b[0mthresholds\u001b[0m\u001b[1;33m[\u001b[0m\u001b[0md\u001b[0m\u001b[1;33m]\u001b[0m \u001b[1;33m<\u001b[0m \u001b[1;36m0.04\u001b[0m\u001b[1;33m:\u001b[0m\u001b[1;33m\u001b[0m\u001b[0m\n\u001b[0;32m      4\u001b[0m         \u001b[0mdata_filtered_z\u001b[0m\u001b[1;33m.\u001b[0m\u001b[0mappend\u001b[0m\u001b[1;33m(\u001b[0m\u001b[0mmodel\u001b[0m\u001b[1;33m[\u001b[0m\u001b[0md\u001b[0m\u001b[1;33m]\u001b[0m\u001b[1;33m)\u001b[0m\u001b[1;33m\u001b[0m\u001b[0m\n\u001b[0;32m      5\u001b[0m \u001b[0mroad_data\u001b[0m \u001b[1;33m=\u001b[0m \u001b[0mnp\u001b[0m\u001b[1;33m.\u001b[0m\u001b[0marray\u001b[0m\u001b[1;33m(\u001b[0m\u001b[0mdata_filtered_z\u001b[0m\u001b[1;33m)\u001b[0m\u001b[1;33m\u001b[0m\u001b[0m\n",
      "\u001b[1;31mTypeError\u001b[0m: object of type 'LinearRegression' has no len()"
     ]
    }
   ],
   "source": [
    "data_filtered_z = []\n",
    "for d in range(len(model)):\n",
    "    if thresholds[d] < 0.04:\n",
    "        data_filtered_z.append(model[d])\n",
    "road_data = np.array(data_filtered_z)\n",
    "\n",
    "rx, ry, rz, ri = road_data.T"
   ]
  },
  {
   "cell_type": "code",
   "execution_count": null,
   "metadata": {
    "collapsed": false,
    "deletable": true,
    "editable": true
   },
   "outputs": [],
   "source": [
    "plt.hist(z,255)\n",
    "plt.show()"
   ]
  },
  {
   "cell_type": "code",
   "execution_count": null,
   "metadata": {
    "collapsed": false,
    "deletable": true,
    "editable": true
   },
   "outputs": [],
   "source": [
    "plt.hist(i)\n",
    "plt.show()"
   ]
  },
  {
   "cell_type": "code",
   "execution_count": null,
   "metadata": {
    "collapsed": false,
    "deletable": true,
    "editable": true
   },
   "outputs": [],
   "source": [
    "'''\n",
    "zrange=max(z)-min(z)\n",
    "med=np.median(z)\n",
    "print(med)\n",
    "minimum=np.median(z)-0.005*zrange\n",
    "maximum=np.median(z)+0.02*zrange\n",
    "#mean=np.array(z).mean()\n",
    "#std=np.array(z).std()\n",
    "road_data=[ ]\n",
    "k=0\n",
    "for d in model:\n",
    "    if d[2]>=minimum and d[2]<=maximum:\n",
    "        road_data.append(d)\n",
    "        k=k+1\n",
    "road_data=np.array(road_data)\n",
    "rx, ry, rz, ri = road_data.T\n",
    "counts=plt.hist(rz, 14,color='black',alpha=0.5)\n",
    "#x=[mean+2*std]*100\n",
    "#x=np.array(x)\n",
    "#plt.plot(x)\n",
    "plt.show()\n",
    "print(k)\n",
    "'''"
   ]
  },
  {
   "cell_type": "code",
   "execution_count": null,
   "metadata": {
    "collapsed": true,
    "deletable": true,
    "editable": true
   },
   "outputs": [],
   "source": [
    "np.savetxt('c.csv',road_data, delimiter=' ')"
   ]
  },
  {
   "cell_type": "code",
   "execution_count": null,
   "metadata": {
    "collapsed": false,
    "deletable": true,
    "editable": true
   },
   "outputs": [],
   "source": [
    "# draw pixel picture\n",
    "fig=plt.figure()\n",
    "road=fig.add_subplot(111)\n",
    "road.plot(rx,ry,',')# draw pixel\n",
    "plt.show()\n",
    "\n",
    "original=[]\n",
    "#intensity\n",
    "si= sorted(i)[int(0.997*len(i)):int(0.9995*len(i))]\n",
    "minl=min(si)\n",
    "maxl=max(si)\n",
    "print(\"{} {}\".format(minl, maxl))\n",
    "for e in road_data:\n",
    "    if e[3]>=minl and e[3]<=maxl:\n",
    "        original.append(e[:-1])\n",
    "original= np.array(original)\n",
    "lx, ly, lz = original.T\n",
    "plt.savefig('original.png',dpi=400,bbox_inches='tight')\n",
    "\n",
    "fig = plt.figure()\n",
    "ax = fig.add_subplot(111)\n",
    "ax.plot(rx, ry, ',')\n",
    "ax.plot(lx, ly, ',', color='red')\n",
    "plt.savefig('lane_rough.png',dpi=400,bbox_inches='tight')\n",
    "plt.show()\n",
    "\n",
    "#bnear(e,distance=0.3) > 5"
   ]
  },
  {
   "cell_type": "code",
   "execution_count": null,
   "metadata": {
    "collapsed": false,
    "deletable": true,
    "editable": true
   },
   "outputs": [],
   "source": [
    "ox=original[:,0][:,np.newaxis]\n",
    "oy=original[:,1]\n",
    "\n",
    "model_all=linear_model.LinearRegression()\n",
    "model_all.fit(ox,oy)"
   ]
  },
  {
   "cell_type": "code",
   "execution_count": null,
   "metadata": {
    "collapsed": true,
    "deletable": true,
    "editable": true
   },
   "outputs": [],
   "source": [
    "np.savetxt('d.csv',original, delimiter=' ')"
   ]
  },
  {
   "cell_type": "code",
   "execution_count": null,
   "metadata": {
    "collapsed": false,
    "deletable": true,
    "editable": true
   },
   "outputs": [],
   "source": [
    "model_ransac_all=linear_model.RANSACRegressor(linear_model.LinearRegression())\n",
    "model_ransac_all.fit(ox,oy)\n",
    "inlier_mask_all=model_ransac_all.inlier_mask_\n",
    "outlier_mask_all=np.logical_not(inlier_mask_all)\n",
    "\n",
    "linex = ox\n",
    "liney = model_all.predict(ox)\n",
    "alpha = model_all.coef_\n",
    "print('para',alpha)\n",
    "plt.plot(rx, ry, ',')\n",
    "plt.plot(linex, liney, color='yellow', linestyle='-', linewidth=2, label='lane1')"
   ]
  },
  {
   "cell_type": "code",
   "execution_count": null,
   "metadata": {
    "collapsed": false,
    "deletable": true,
    "editable": true
   },
   "outputs": [],
   "source": [
    "ts=[]\n",
    "for t in original:\n",
    "    first,second = rot(t[0],t[1],alpha)\n",
    "    ts.append([first,second])\n",
    "ts=np.asarray(ts)\n",
    "ts=ts.reshape(np.shape(ts)[0],2)\n",
    "print(np.shape(ts))\n",
    "tx,ty = ts.T"
   ]
  },
  {
   "cell_type": "code",
   "execution_count": null,
   "metadata": {
    "collapsed": false,
    "deletable": true,
    "editable": true
   },
   "outputs": [],
   "source": [
    "plt.hist(tx,255)\n",
    "plt.show()\n",
    "plt.hist(ty,255)\n",
    "plt.show()"
   ]
  },
  {
   "cell_type": "code",
   "execution_count": null,
   "metadata": {
    "collapsed": false,
    "deletable": true,
    "editable": true
   },
   "outputs": [],
   "source": [
    "fig = plt.figure()\n",
    "ax = fig.add_subplot(111)\n",
    "ax.plot(tx, ty, ',', color='red')"
   ]
  },
  {
   "cell_type": "code",
   "execution_count": null,
   "metadata": {
    "collapsed": false,
    "deletable": true,
    "editable": true
   },
   "outputs": [],
   "source": [
    "# In practice, the k-means algorithm is very fast (one of the fastest clustering algorithms available)\n",
    "# But it falls in local minima. That’s why it can be useful to restart it several times.\n",
    "iteration=500000\n",
    "# ,random_state=0\n",
    "data = KMeans(max_iter=iteration,n_clusters=3).fit(ts)\n",
    "label = data.labels_\n",
    "lane1,lane2,lane3,lane_other,lane=[],[],[],[],[]\n",
    "for q in range(len(label)):\n",
    "    lane=[original[q][0],original[q][1],original[q][2]]\n",
    "    if (label[q]==0):\n",
    "        lane1.append(lane)\n",
    "    elif (label[q]==1):\n",
    "        lane2.append(lane)\n",
    "    elif (label[q]==2):\n",
    "        lane3.append(lane)\n",
    "    else:\n",
    "        lane_other.append(lane)\n",
    "        \n",
    "lane1=np.array(lane1)\n",
    "if(len(lane1)!=0):\n",
    "    x1,y1,z1=lane1.T\n",
    "# print(x1.shape,x1)\n",
    "X1=lane1[:,0][:,np.newaxis]\n",
    "#X2=list(lane1)\n",
    "Y1=lane1[:,1]\n",
    "#print(X1)\n",
    "#print(x1)\n",
    "# x1_1=[]\n",
    "# for element in x1:\n",
    "#     x1_1.append(element)\n",
    "\n",
    "\n",
    "lane2=np.array(lane2)\n",
    "\n",
    "if(len(lane2)!=0):\n",
    "    x2,y2,z2=lane2.T\n",
    "X2=lane2[:,0][:,np.newaxis]\n",
    "Y2=lane2[:,1]\n",
    "lane3=np.array(lane3)\n",
    "\n",
    "if(len(lane3)!=0):\n",
    "    x3,y3,z3=lane3.T\n",
    "X3=lane3[:,0][:,np.newaxis]\n",
    "Y3=lane3[:,1]\n",
    "print(X1.shape,Y1.shape)\n",
    "\n",
    "fig = plt.figure()\n",
    "ax = fig.add_subplot(111)\n",
    "ax.plot(rx, ry, ',')\n",
    "ax.plot(X3, Y3, ',', color='red')\n",
    "plt.savefig('lane_rough.png',dpi=400,bbox_inches='tight')\n",
    "plt.show()\n",
    "# In[25]:\n",
    "\n",
    "fig = plt.figure()\n",
    "ax = fig.add_subplot(111)\n",
    "ax.plot(rx, ry, ',')\n",
    "ax.plot(X2, Y2, ',', color='red')\n",
    "plt.savefig('lane_rough.png',dpi=400,bbox_inches='tight')\n",
    "plt.show()\n",
    "\n",
    "fig = plt.figure()\n",
    "ax = fig.add_subplot(111)\n",
    "ax.plot(rx, ry, ',')\n",
    "ax.plot(X1, Y1, ',', color='red')\n",
    "plt.savefig('lane_rough.png',dpi=400,bbox_inches='tight')\n",
    "plt.show()\n",
    "\n",
    "ox=original[:,0][:,np.newaxis]\n",
    "oy=original[:,1]\n"
   ]
  },
  {
   "cell_type": "code",
   "execution_count": null,
   "metadata": {
    "collapsed": false,
    "deletable": true,
    "editable": true
   },
   "outputs": [],
   "source": [
    "model_ransac_all=linear_model.RANSACRegressor(linear_model.LinearRegression())\n",
    "model_ransac_all.fit(ox,oy)\n",
    "inlier_mask_all=model_ransac_all.inlier_mask_\n",
    "outlier_mask_all=np.logical_not(inlier_mask_all)\n",
    "\n",
    "linex = ox\n",
    "liney = model_all.predict(ox)\n",
    "alpha = model_all.coef_\n",
    "print('para',alpha)\n",
    "plt.plot(rx, ry, ',')\n",
    "plt.plot(linex, liney, color='yellow', linestyle='-', linewidth=2, label='lane1')"
   ]
  },
  {
   "cell_type": "code",
   "execution_count": null,
   "metadata": {
    "collapsed": false,
    "deletable": true,
    "editable": true
   },
   "outputs": [],
   "source": [
    "model=linear_model.LinearRegression()\n",
    "model.fit(X1,Y1)\n",
    "model2=linear_model.LinearRegression()\n",
    "model3=linear_model.LinearRegression()\n",
    "model2.fit(X2,Y2)\n",
    "model3.fit(X3,Y3)\n",
    "model_all=linear_model.LinearRegression()\n",
    "model_all.fit(ox,oy)\n",
    "\n",
    "model_ransac=linear_model.RANSACRegressor(linear_model.LinearRegression())\n",
    "model_ransac.fit(X1,Y1)\n",
    "inlier_mask=model_ransac.inlier_mask_\n",
    "outlier_mask=np.logical_not(inlier_mask)\n",
    "\n",
    "model_ransac2=linear_model.RANSACRegressor(linear_model.LinearRegression())\n",
    "model_ransac2.fit(X2,Y2)\n",
    "inlier_mask2=model_ransac2.inlier_mask_\n",
    "outlier_mask2=np.logical_not(inlier_mask2)\n",
    "\n",
    "model_ransac3=linear_model.RANSACRegressor(linear_model.LinearRegression())\n",
    "model_ransac3.fit(X3,Y3)\n",
    "inlier_mask3=model_ransac3.inlier_mask_\n",
    "outlier_mask3=np.logical_not(inlier_mask3)\n",
    "\n",
    "\n",
    "line_X=X1\n",
    "line_y=model.predict(X1)\n",
    "line_y_ransac=model_ransac.predict(X1)\n",
    "\n",
    "line_X2=X2\n",
    "line_y2=model2.predict(X2)\n",
    "line_y_ransac2=model_ransac2.predict(X2)\n",
    "\n",
    "line_X3=X3\n",
    "line_y=model3.predict(X3)\n",
    "line_y_ransac3=model_ransac3.predict(X3)\n",
    "\n",
    "plt.plot(rx, ry, ',')\n",
    "\n",
    "\n",
    "\n",
    "\n",
    "plt.plot(line_X, line_y_ransac, color='yellow', linestyle='-', linewidth=2, label='lane1')\n",
    "plt.plot(line_X2, line_y_ransac2, color='red', linestyle='-',linewidth=2, label='lane2')\n",
    "plt.plot(line_X3, line_y_ransac3, color='green', linestyle='-',linewidth=2, label='lane3')\n",
    "plt.legend(loc='lower right')\n",
    "plt.show()\n",
    "\n"
   ]
  },
  {
   "cell_type": "code",
   "execution_count": null,
   "metadata": {
    "collapsed": false,
    "deletable": true,
    "editable": true
   },
   "outputs": [],
   "source": [
    "\n",
    "\"\"\"\n",
    "\n",
    "model_ransac_all=linear_model.RANSACRegressor(linear_model.LinearRegression())\n",
    "model_ransac_all.fit(ox,oy)\n",
    "inlier_mask_all=model_ransac_all.inlier_mask_\n",
    "outlier_mask_all=np.logical_not(inlier_mask_all)\n",
    "\n",
    "linex = ox\n",
    "liney = model_all.predict(ox)\n",
    "alpha = model_all.coef_\n",
    "print('para',alpha)\n",
    "plt.plot(rx, ry, ',')\n",
    "plt.plot(linex, liney, color='yellow', linestyle='-', linewidth=2, label='lane1')\n",
    "\n",
    "\"\"\""
   ]
  },
  {
   "cell_type": "code",
   "execution_count": null,
   "metadata": {
    "collapsed": true,
    "deletable": true,
    "editable": true
   },
   "outputs": [],
   "source": []
  },
  {
   "cell_type": "code",
   "execution_count": null,
   "metadata": {
    "collapsed": true,
    "deletable": true,
    "editable": true
   },
   "outputs": [],
   "source": []
  },
  {
   "cell_type": "code",
   "execution_count": null,
   "metadata": {
    "collapsed": true,
    "deletable": true,
    "editable": true
   },
   "outputs": [],
   "source": []
  },
  {
   "cell_type": "code",
   "execution_count": null,
   "metadata": {
    "collapsed": true,
    "deletable": true,
    "editable": true
   },
   "outputs": [],
   "source": []
  },
  {
   "cell_type": "code",
   "execution_count": null,
   "metadata": {
    "collapsed": true,
    "deletable": true,
    "editable": true
   },
   "outputs": [],
   "source": []
  }
 ],
 "metadata": {
  "kernelspec": {
   "display_name": "Python 3",
   "language": "python",
   "name": "python3"
  },
  "language_info": {
   "codemirror_mode": {
    "name": "ipython",
    "version": 3
   },
   "file_extension": ".py",
   "mimetype": "text/x-python",
   "name": "python",
   "nbconvert_exporter": "python",
   "pygments_lexer": "ipython3",
   "version": "3.5.2"
  }
 },
 "nbformat": 4,
 "nbformat_minor": 2
}

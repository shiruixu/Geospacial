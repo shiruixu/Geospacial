{
 "cells": [
  {
   "cell_type": "code",
   "execution_count": 1,
   "metadata": {
    "collapsed": true,
    "deletable": true,
    "editable": true
   },
   "outputs": [],
   "source": [
    "#import numpy as np\n",
    "from autograd.util import flatten_func\n",
    "from autograd import grad as compute_grad   \n",
    "import matplotlib.pyplot as plt\n",
    "import matplotlib.mlab as mlab\n",
    "from sklearn import linear_model\n",
    "from sklearn.cluster import KMeans\n",
    "import math\n",
    "import autograd.numpy as np\n",
    "import custom_utilities as util\n",
    "\n",
    "get_ipython().run_line_magic('matplotlib', 'inline')"
   ]
  },
  {
   "cell_type": "code",
   "execution_count": 2,
   "metadata": {
    "collapsed": false,
    "deletable": true,
    "editable": true
   },
   "outputs": [
    {
     "name": "stdout",
     "output_type": "stream",
     "text": [
      "430736\n"
     ]
    }
   ],
   "source": [
    "csv = open('final_project_data/final_project_point_cloud.fuse', 'r')\n",
    "data=[]\n",
    "num=0\n",
    "for line in csv:\n",
    "    ls=line.split(\" \")\n",
    "    data.append([float(ls[0]),float(ls[1]),float(ls[2]),float(ls[3])])\n",
    "    num += 1\n",
    "csv.close()\n",
    "data=np.array(data)\n",
    "#print(data)\n",
    "print(num)\n",
    "lat, long, height, i = data.T"
   ]
  },
  {
   "cell_type": "code",
   "execution_count": 3,
   "metadata": {
    "collapsed": false,
    "deletable": true,
    "editable": true
   },
   "outputs": [
    {
     "name": "stdout",
     "output_type": "stream",
     "text": [
      "[ 45.9038834   11.02841352 232.4648      10.        ]\n"
     ]
    }
   ],
   "source": [
    "print(data[0])\n",
    "lat0 = data[0][0]\n",
    "lon0 = data[0][1]"
   ]
  },
  {
   "cell_type": "code",
   "execution_count": 4,
   "metadata": {
    "collapsed": false,
    "deletable": true,
    "editable": true
   },
   "outputs": [
    {
     "data": {
      "text/plain": [
       "'\\ndef latlontoxy(lat1, lon1, lat0,lon0):\\n    R = 6378.137 # Radius of earth in KM\\n    dLat = lat2 * math.pi / 180 - lat1 * math.pi / 180\\n    dLon = lon2 * math.pi / 180 - lon1 * math.pi / 180\\n    a = math.sin(dLat/2) * math.sin(dLat/2) + math.cos(lat1 * math.pi / 180) * math.cos(lat2 * math.pi / 180) * math.sin(dLon/2) * math.sin(dLon/2);\\n    c = 2 * math.atan2(math.sqrt(a), math.sqrt(1-a));\\n    d = R * c\\n    return d * 1000 # meters\\n'"
      ]
     },
     "execution_count": 4,
     "metadata": {},
     "output_type": "execute_result"
    }
   ],
   "source": [
    "\"\"\"\n",
    "def latlontoxy(lat1, lon1, lat0,lon0):\n",
    "    R = 6378.137 # Radius of earth in KM\n",
    "    dLat = lat2 * math.pi / 180 - lat1 * math.pi / 180\n",
    "    dLon = lon2 * math.pi / 180 - lon1 * math.pi / 180\n",
    "    a = math.sin(dLat/2) * math.sin(dLat/2) + math.cos(lat1 * math.pi / 180) * math.cos(lat2 * math.pi / 180) * math.sin(dLon/2) * math.sin(dLon/2);\n",
    "    c = 2 * math.atan2(math.sqrt(a), math.sqrt(1-a));\n",
    "    d = R * c\n",
    "    return d * 1000 # meters\n",
    "\"\"\""
   ]
  },
  {
   "cell_type": "code",
   "execution_count": 5,
   "metadata": {
    "collapsed": false,
    "deletable": true,
    "editable": true
   },
   "outputs": [],
   "source": [
    "def rot(x,y,co):\n",
    "    cosf=1/(1+co**2)\n",
    "    sinf=co/(1+co**2)\n",
    "    xt=(x*cosf + y*sinf)*0.002\n",
    "    yt=x*(-sinf)+y*cosf\n",
    "    return xt,yt"
   ]
  },
  {
   "cell_type": "code",
   "execution_count": 6,
   "metadata": {
    "collapsed": true,
    "deletable": true,
    "editable": true
   },
   "outputs": [],
   "source": [
    "def latlontoxy(lat1, lon1, lat0,lon0):\n",
    "    m_per_deg_lat = 111132.954 - 559.822 * math.cos( 2.0 * lat0 ) + 1.175 * math.cos( 4.0 * lat0);\n",
    "    m_per_deg_lon = (3.14159265359/180 ) * 6367449 * math.cos ( lat0 );\n",
    "    x = (lat1-lat0) * m_per_deg_lat\n",
    "    y = (lon1-lon0) * m_per_deg_lon\n",
    "    return x,y"
   ]
  },
  {
   "cell_type": "code",
   "execution_count": 7,
   "metadata": {
    "collapsed": true,
    "deletable": true,
    "editable": true
   },
   "outputs": [],
   "source": [
    "# gradient descent function\n",
    "def gradient_descent(g,w,alpha,max_its,beta,version):    \n",
    "    # flatten the input function, create gradient based on flat function\n",
    "    g_flat, unflatten, w = flatten_func(g, w)\n",
    "    grad = compute_grad(g_flat)\n",
    "\n",
    "    # record history\n",
    "    w_hist = []\n",
    "    w_hist.append(unflatten(w))\n",
    "\n",
    "    # start gradient descent loop\n",
    "    z = np.zeros((np.shape(w)))      # momentum term\n",
    "    \n",
    "    # over the line\n",
    "    for k in range(max_its):   \n",
    "        # plug in value into func and derivative\n",
    "        grad_eval = grad(w)\n",
    "        grad_eval.shape = np.shape(w)\n",
    "\n",
    "        ### normalized or unnormalized descent step? ###\n",
    "        if version == 'normalized':\n",
    "            grad_norm = np.linalg.norm(grad_eval)\n",
    "            if grad_norm == 0:\n",
    "                grad_norm += 10**-6*np.sign(2*np.random.rand(1) - 1)\n",
    "            grad_eval /= grad_norm\n",
    "            \n",
    "        # take descent step with momentum\n",
    "        z = beta*z + grad_eval\n",
    "        w = w - alpha*z\n",
    "\n",
    "        # record weight update\n",
    "        w_hist.append(unflatten(w))\n",
    "\n",
    "    return w_hist"
   ]
  },
  {
   "cell_type": "code",
   "execution_count": 8,
   "metadata": {
    "collapsed": true,
    "deletable": true,
    "editable": true
   },
   "outputs": [],
   "source": [
    "def normalize(data,data_mean,data_std):\n",
    "    normalized_data = (data - data_mean)/data_std\n",
    "    return normalized_data"
   ]
  },
  {
   "cell_type": "code",
   "execution_count": 9,
   "metadata": {
    "collapsed": false,
    "deletable": true,
    "editable": true
   },
   "outputs": [],
   "source": [
    "model = []\n",
    "for d in data:\n",
    "    h = np.zeros(4)\n",
    "    h[0],h[1]=latlontoxy(d[0],d[1],lat0,lon0)\n",
    "\n",
    "    h[2]=d[2]\n",
    "    h[3]=d[3]\n",
    "    model.append(h)\n",
    "model=np.array(model)"
   ]
  },
  {
   "cell_type": "code",
   "execution_count": 10,
   "metadata": {
    "collapsed": false,
    "deletable": true,
    "editable": true
   },
   "outputs": [],
   "source": [
    "np.savetxt('b.csv',model, delimiter=' ')"
   ]
  },
  {
   "cell_type": "code",
   "execution_count": 11,
   "metadata": {
    "collapsed": false,
    "deletable": true,
    "editable": true
   },
   "outputs": [],
   "source": [
    "x,y,z,i=model.T"
   ]
  },
  {
   "cell_type": "code",
   "execution_count": 12,
   "metadata": {
    "collapsed": true,
    "deletable": true,
    "editable": true
   },
   "outputs": [],
   "source": [
    "#randomly select all points for the linear regression\n",
    "#sample = np.array(random.sample(list(model), 4300))\n",
    "sample=model\n",
    "#print(np.ones(len(sample))[:, np.newaxis])\n",
    "sample_pos=np.concatenate((np.ones(len(sample))[:, np.newaxis],sample[:,:-1]),axis=1)\n",
    "#print(sample_pos)\n",
    "sample_pos_means = np.mean(sample_pos,axis = 0)\n",
    "sample_pos_stds = np.std(sample_pos,axis = 0)\n",
    "\n",
    "sample_pos_norm = normalize(sample_pos[:,1:],sample_pos_means[1:],sample_pos_stds[1:])\n",
    "sample_pos_norm = np.concatenate((np.ones(len(sample_pos))[:, np.newaxis],sample_pos_norm),axis=1)\n",
    "#print(sample_pos_norm)\n",
    "z_norm = sample_pos_norm[:,-1][:,np.newaxis]\n",
    "#z_norm.shape(len(z_norm,1))\n",
    "data_norm = sample_pos_norm[:,:-1]\n",
    "\n"
   ]
  },
  {
   "cell_type": "code",
   "execution_count": 13,
   "metadata": {
    "collapsed": true,
    "deletable": true,
    "editable": true
   },
   "outputs": [],
   "source": [
    "sample_pos_norm = normalize(sample_pos[:,1:],sample_pos_means[1:],sample_pos_stds[1:])\n",
    "sample_pos_norm = np.concatenate((np.ones(len(sample_pos))[:, np.newaxis],sample_pos_norm),axis=1)\n",
    "#print(sample_pos_norm)\n",
    "z_norm = sample_pos_norm[:,-1][:,np.newaxis]\n",
    "#z_norm.shape(len(z_norm,1))\n",
    "data_norm = sample_pos_norm[:,:-1]"
   ]
  },
  {
   "cell_type": "code",
   "execution_count": 14,
   "metadata": {
    "collapsed": false,
    "deletable": true,
    "editable": true
   },
   "outputs": [
    {
     "name": "stdout",
     "output_type": "stream",
     "text": [
      "[[0.00474508]\n",
      " [0.00314683]\n",
      " [0.00200981]]\n"
     ]
    }
   ],
   "source": [
    "w = np.random.randn(3,1)*0.01\n",
    "print(w)\n",
    "# least squares MSE rergession\n",
    "least_squares = lambda w: np.sum((np.dot(data_norm,w) - z_norm)**2)\n",
    "alpha = 10**(-3)\n",
    "max_its = 800"
   ]
  },
  {
   "cell_type": "code",
   "execution_count": 15,
   "metadata": {
    "collapsed": false,
    "deletable": true,
    "editable": true
   },
   "outputs": [],
   "source": [
    "# run gradient descent\n",
    "weight_history = gradient_descent(least_squares,w,alpha,max_its,beta = 0,version = 'normalized')\n",
    "\n",
    "# plot cost function history\n",
    "cost_history = [least_squares(v) for v in weight_history]\n",
    "histories = [cost_history]"
   ]
  },
  {
   "cell_type": "code",
   "execution_count": 16,
   "metadata": {
    "collapsed": false,
    "deletable": true,
    "editable": true
   },
   "outputs": [
    {
     "data": {
      "image/png": "[encoded data removed]",
      "text/plain": [
       "<matplotlib.figure.Figure at 0x1f83661c7b8>"
      ]
     },
     "metadata": {},
     "output_type": "display_data"
    }
   ],
   "source": [
    "# plot everything\n",
    "demo = util.Visualizer()\n",
    "demo.compare_regression_histories(histories)"
   ]
  },
  {
   "cell_type": "code",
   "execution_count": 17,
   "metadata": {
    "collapsed": true,
    "deletable": true,
    "editable": true
   },
   "outputs": [],
   "source": [
    "#print(weight_history[-1])\n",
    "final_w_norm = weight_history[-1]\n",
    "#threshold numbers\n",
    "thresholds = (z_norm-np.dot(data_norm,final_w_norm))**2\n",
    "#print(thresholds.shape)\n",
    "#print(thresholds)"
   ]
  },
  {
   "cell_type": "code",
   "execution_count": 18,
   "metadata": {
    "collapsed": false,
    "deletable": true,
    "editable": true
   },
   "outputs": [],
   "source": [
    "data_filtered_z = []\n",
    "for d in range(len(model)):\n",
    "    if thresholds[d] < 0.035:\n",
    "        data_filtered_z.append(model[d])\n",
    "road_data = np.array(data_filtered_z)\n",
    "\n",
    "rx, ry, rz, ri = road_data.T"
   ]
  },
  {
   "cell_type": "code",
   "execution_count": 19,
   "metadata": {
    "collapsed": false,
    "deletable": true,
    "editable": true
   },
   "outputs": [
    {
     "data": {
      "image/png": "[encoded data removed]",
      "text/plain": [
       "<matplotlib.figure.Figure at 0x1f83aca6320>"
      ]
     },
     "metadata": {},
     "output_type": "display_data"
    }
   ],
   "source": [
    "plt.hist(z,255)\n",
    "plt.show()"
   ]
  },
  {
   "cell_type": "code",
   "execution_count": 20,
   "metadata": {
    "collapsed": false,
    "deletable": true,
    "editable": true
   },
   "outputs": [
    {
     "data": {
      "image/png": "[encoded data removed]",
      "text/plain": [
       "<matplotlib.figure.Figure at 0x1f838af4780>"
      ]
     },
     "metadata": {},
     "output_type": "display_data"
    }
   ],
   "source": [
    "plt.hist(i)\n",
    "plt.show()"
   ]
  },
  {
   "cell_type": "code",
   "execution_count": 21,
   "metadata": {
    "collapsed": false,
    "deletable": true,
    "editable": true
   },
   "outputs": [
    {
     "data": {
      "text/plain": [
       "\"\\nzrange=max(z)-min(z)\\nmed=np.median(z)\\nprint(med)\\nminimum=np.median(z)-0.005*zrange\\nmaximum=np.median(z)+0.02*zrange\\n#mean=np.array(z).mean()\\n#std=np.array(z).std()\\nroad_data=[ ]\\nk=0\\nfor d in model:\\n    if d[2]>=minimum and d[2]<=maximum:\\n        road_data.append(d)\\n        k=k+1\\nroad_data=np.array(road_data)\\nrx, ry, rz, ri = road_data.T\\ncounts=plt.hist(rz, 14,color='black',alpha=0.5)\\n#x=[mean+2*std]*100\\n#x=np.array(x)\\n#plt.plot(x)\\nplt.show()\\nprint(k)\\n\""
      ]
     },
     "execution_count": 21,
     "metadata": {},
     "output_type": "execute_result"
    }
   ],
   "source": [
    "'''\n",
    "zrange=max(z)-min(z)\n",
    "med=np.median(z)\n",
    "print(med)\n",
    "minimum=np.median(z)-0.005*zrange\n",
    "maximum=np.median(z)+0.02*zrange\n",
    "#mean=np.array(z).mean()\n",
    "#std=np.array(z).std()\n",
    "road_data=[ ]\n",
    "k=0\n",
    "for d in model:\n",
    "    if d[2]>=minimum and d[2]<=maximum:\n",
    "        road_data.append(d)\n",
    "        k=k+1\n",
    "road_data=np.array(road_data)\n",
    "rx, ry, rz, ri = road_data.T\n",
    "counts=plt.hist(rz, 14,color='black',alpha=0.5)\n",
    "#x=[mean+2*std]*100\n",
    "#x=np.array(x)\n",
    "#plt.plot(x)\n",
    "plt.show()\n",
    "print(k)\n",
    "'''"
   ]
  },
  {
   "cell_type": "code",
   "execution_count": 22,
   "metadata": {
    "collapsed": true,
    "deletable": true,
    "editable": true
   },
   "outputs": [],
   "source": [
    "np.savetxt('c.csv',road_data, delimiter=' ')"
   ]
  },
  {
   "cell_type": "code",
   "execution_count": 23,
   "metadata": {
    "collapsed": false
   },
   "outputs": [
    {
     "name": "stdout",
     "output_type": "stream",
     "text": [
      "203960\n",
      "10881\n",
      "0\n",
      "(10881, 4)\n"
     ]
    }
   ],
   "source": [
    "iteration=1000000\n",
    "# ,random_state=0\n",
    "iclass = KMeans(max_iter=iteration,n_clusters=2).fit(ri.reshape(-1,1))\n",
    "label = iclass.labels_\n",
    "b,w,other=[],[],[]\n",
    "for q in range(len(label)):\n",
    "    lane=[road_data[q][0],road_data[q][1],road_data[q][2],road_data[q][3]]\n",
    "    if (label[q]==0):\n",
    "        b.append(lane)\n",
    "    elif (label[q]==1):\n",
    "        w.append(lane)\n",
    "    else:\n",
    "        other.append(lane)\n",
    "w=np.asarray(w)\n",
    "print(len(b))\n",
    "print(len(w))\n",
    "print(len(other))\n",
    "print(np.shape(w))\n",
    "wx,wy,wz, wi = w.T"
   ]
  },
  {
   "cell_type": "code",
   "execution_count": 24,
   "metadata": {
    "collapsed": false
   },
   "outputs": [
    {
     "ename": "SyntaxError",
     "evalue": "invalid syntax (<ipython-input-24-41dac3b2cadf>, line 4)",
     "output_type": "error",
     "traceback": [
      "\u001b[1;36m  File \u001b[1;32m\"<ipython-input-24-41dac3b2cadf>\"\u001b[1;36m, line \u001b[1;32m4\u001b[0m\n\u001b[1;33m    if\u001b[0m\n\u001b[1;37m      ^\u001b[0m\n\u001b[1;31mSyntaxError\u001b[0m\u001b[1;31m:\u001b[0m invalid syntax\n"
     ]
    }
   ],
   "source": [
    "    "
   ]
  },
  {
   "cell_type": "code",
   "execution_count": 40,
   "metadata": {
    "collapsed": false
   },
   "outputs": [
    {
     "data": {
      "image/png": "[encoded data removed]",
      "text/plain": [
       "<matplotlib.figure.Figure at 0x1f840749a20>"
      ]
     },
     "metadata": {},
     "output_type": "display_data"
    },
    {
     "name": "stdout",
     "output_type": "stream",
     "text": [
      "(10881, 4)\n"
     ]
    }
   ],
   "source": [
    "fig = plt.figure()\n",
    "ax = fig.add_subplot(111)\n",
    "ax.plot(rx, ry, ',')\n",
    "ax.plot(wx, wy, ',', color='red')\n",
    "plt.savefig('lane_rough.png',dpi=400,bbox_inches='tight')\n",
    "plt.show()\n",
    "original = w\n",
    "print(np.shape(original))"
   ]
  },
  {
   "cell_type": "markdown",
   "metadata": {},
   "source": [
    "# Here we get original"
   ]
  },
  {
   "cell_type": "code",
   "execution_count": 28,
   "metadata": {
    "collapsed": false,
    "deletable": true,
    "editable": true
   },
   "outputs": [
    {
     "data": {
      "text/plain": [
       "'\\n# draw pixel picture\\nfig=plt.figure()\\nroad=fig.add_subplot(111)\\nroad.plot(rx,ry,\\',\\')# draw pixel\\nplt.show()\\n\\noriginal=[]\\n#intensity\\nsi= sorted(i)[int(0.997*len(i)):int(0.9995*len(i))]\\nminl=min(si)\\nmaxl=max(si)\\nprint(\"{} {}\".format(minl, maxl))\\nfor e in road_data:\\n    if e[3]>=minl and e[3]<=maxl:\\n        original.append(e[:-1])\\noriginal= np.array(original)\\nlx, ly, lz = original.T\\nplt.savefig(\\'original.png\\',dpi=400,bbox_inches=\\'tight\\')\\n\\nfig = plt.figure()\\nax = fig.add_subplot(111)\\nax.plot(rx, ry, \\',\\')\\nax.plot(lx, ly, \\',\\', color=\\'red\\')\\nplt.savefig(\\'lane_rough.png\\',dpi=400,bbox_inches=\\'tight\\')\\nplt.show()\\n\\n#bnear(e,distance=0.3) > 5\\n'"
      ]
     },
     "execution_count": 28,
     "metadata": {},
     "output_type": "execute_result"
    }
   ],
   "source": [
    "\"\"\"\n",
    "# draw pixel picture\n",
    "fig=plt.figure()\n",
    "road=fig.add_subplot(111)\n",
    "road.plot(rx,ry,',')# draw pixel\n",
    "plt.show()\n",
    "\n",
    "original=[]\n",
    "#intensity\n",
    "si= sorted(i)[int(0.997*len(i)):int(0.9995*len(i))]\n",
    "minl=min(si)\n",
    "maxl=max(si)\n",
    "print(\"{} {}\".format(minl, maxl))\n",
    "for e in road_data:\n",
    "    if e[3]>=minl and e[3]<=maxl:\n",
    "        original.append(e[:-1])\n",
    "original= np.array(original)\n",
    "lx, ly, lz = original.T\n",
    "plt.savefig('original.png',dpi=400,bbox_inches='tight')\n",
    "\n",
    "fig = plt.figure()\n",
    "ax = fig.add_subplot(111)\n",
    "ax.plot(rx, ry, ',')\n",
    "ax.plot(lx, ly, ',', color='red')\n",
    "plt.savefig('lane_rough.png',dpi=400,bbox_inches='tight')\n",
    "plt.show()\n",
    "\n",
    "#bnear(e,distance=0.3) > 5\n",
    "\"\"\""
   ]
  },
  {
   "cell_type": "code",
   "execution_count": 29,
   "metadata": {
    "collapsed": false,
    "deletable": true,
    "editable": true
   },
   "outputs": [
    {
     "data": {
      "text/plain": [
       "LinearRegression(copy_X=True, fit_intercept=True, n_jobs=1, normalize=False)"
      ]
     },
     "execution_count": 29,
     "metadata": {},
     "output_type": "execute_result"
    }
   ],
   "source": [
    "ox=original[:,0][:,np.newaxis]\n",
    "oy=original[:,1]\n",
    "\n",
    "model_all=linear_model.LinearRegression()\n",
    "model_all.fit(ox,oy)"
   ]
  },
  {
   "cell_type": "code",
   "execution_count": 30,
   "metadata": {
    "collapsed": true,
    "deletable": true,
    "editable": true
   },
   "outputs": [],
   "source": [
    "np.savetxt('d.csv',original, delimiter=' ')"
   ]
  },
  {
   "cell_type": "code",
   "execution_count": 41,
   "metadata": {
    "collapsed": false,
    "deletable": true,
    "editable": true
   },
   "outputs": [
    {
     "name": "stdout",
     "output_type": "stream",
     "text": [
      "para [-0.2392211]\n"
     ]
    },
    {
     "data": {
      "text/plain": [
       "[<matplotlib.lines.Line2D at 0x1f84005ca58>]"
      ]
     },
     "execution_count": 41,
     "metadata": {},
     "output_type": "execute_result"
    },
    {
     "data": {
      "image/png": "[encoded data removed]",
      "text/plain": [
       "<matplotlib.figure.Figure at 0x1f8400a0278>"
      ]
     },
     "metadata": {},
     "output_type": "display_data"
    }
   ],
   "source": [
    "model_ransac_all=linear_model.RANSACRegressor(linear_model.LinearRegression())\n",
    "model_ransac_all.fit(ox,oy)\n",
    "inlier_mask_all=model_ransac_all.inlier_mask_\n",
    "outlier_mask_all=np.logical_not(inlier_mask_all)\n",
    "\n",
    "linex = ox\n",
    "liney = model_all.predict(ox)\n",
    "#alpha = model_all.coef_\n",
    "print('para',alpha)\n",
    "alpha = -0.252\n",
    "plt.plot(rx, ry, ',')\n",
    "plt.plot(linex, liney, color='yellow', linestyle='-', linewidth=2, label='lane1')"
   ]
  },
  {
   "cell_type": "code",
   "execution_count": 47,
   "metadata": {
    "collapsed": false,
    "deletable": true,
    "editable": true
   },
   "outputs": [
    {
     "data": {
      "text/plain": [
       "[<matplotlib.lines.Line2D at 0x1f83ff994e0>]"
      ]
     },
     "execution_count": 47,
     "metadata": {},
     "output_type": "execute_result"
    },
    {
     "data": {
      "image/png": "[encoded data removed]",
      "text/plain": [
       "<matplotlib.figure.Figure at 0x1f8400db898>"
      ]
     },
     "metadata": {},
     "output_type": "display_data"
    }
   ],
   "source": [
    "rotate=[]\n",
    "for t in original:\n",
    "    first,second = rot(t[0],t[1],alpha)\n",
    "    rotate.append([first,second,t[2],t[3]])\n",
    "rotate=np.asarray(rotate)\n",
    "#print(rotate)\n",
    "rotate=rotate.reshape(np.shape(rotate)[0],4)\n",
    "#print(np.shape(rotate))\n",
    "rotx,roty,rotz,i=rotate.T\n",
    "\n",
    "fig = plt.figure()\n",
    "ax = fig.add_subplot(111)\n",
    "ax.plot(rotx, roty, ',', color='red')   "
   ]
  },
  {
   "cell_type": "code",
   "execution_count": 80,
   "metadata": {
    "collapsed": false
   },
   "outputs": [
    {
     "name": "stdout",
     "output_type": "stream",
     "text": [
      "(9891, 4)\n",
      "(9891, 2)\n"
     ]
    },
    {
     "data": {
      "text/plain": [
       "[<matplotlib.lines.Line2D at 0x1f84037f940>]"
      ]
     },
     "execution_count": 80,
     "metadata": {},
     "output_type": "execute_result"
    },
    {
     "data": {
      "image/png": "[encoded data removed]",
      "text/plain": [
       "<matplotlib.figure.Figure at 0x1f841a45710>"
      ]
     },
     "metadata": {},
     "output_type": "display_data"
    },
    {
     "data": {
      "image/png": "[encoded data removed]",
      "text/plain": [
       "<matplotlib.figure.Figure at 0x1f83ffdf1d0>"
      ]
     },
     "metadata": {},
     "output_type": "display_data"
    }
   ],
   "source": [
    "upper=9\n",
    "lower=-1\n",
    "limit=[]\n",
    "limitr=[]\n",
    "for p in range(len(rotate)):\n",
    "    if roty[p]<upper and roty[p]>lower:\n",
    "        limit.append(original[p])\n",
    "        limitr.append([rotate[p][0],rotate[p][1]])\n",
    "\n",
    "limit=np.asarray(limit)\n",
    "print(np.shape(limit))\n",
    "limx,limy,limz,limi=limit.T\n",
    "limitr=np.asarray(limitr)\n",
    "limrx,limry=limitr.T\n",
    "print(np.shape(limitr))\n",
    "fig = plt.figure()\n",
    "ax = fig.add_subplot(111)\n",
    "ax.plot(limx, limy, ',', color='red')     \n",
    "\n",
    "fig = plt.figure()\n",
    "ax = fig.add_subplot(111)\n",
    "plt.axis([-5, 5, -6, 18])\n",
    "ax.plot(limrx, limry, ',', color='red')   "
   ]
  },
  {
   "cell_type": "code",
   "execution_count": 66,
   "metadata": {
    "collapsed": false,
    "deletable": true,
    "editable": true
   },
   "outputs": [
    {
     "data": {
      "image/png": "[encoded data removed]",
      "text/plain": [
       "<matplotlib.figure.Figure at 0x1f841768a90>"
      ]
     },
     "metadata": {},
     "output_type": "display_data"
    },
    {
     "data": {
      "image/png": "[encoded data removed]",
      "text/plain": [
       "<matplotlib.figure.Figure at 0x1f841768320>"
      ]
     },
     "metadata": {},
     "output_type": "display_data"
    }
   ],
   "source": [
    "plt.hist(limrx,255)\n",
    "plt.show()\n",
    "plt.hist(limry,255)\n",
    "plt.show()"
   ]
  },
  {
   "cell_type": "code",
   "execution_count": null,
   "metadata": {
    "collapsed": false,
    "deletable": true,
    "editable": true
   },
   "outputs": [],
   "source": []
  },
  {
   "cell_type": "code",
   "execution_count": 67,
   "metadata": {
    "collapsed": false,
    "deletable": true,
    "editable": true
   },
   "outputs": [
    {
     "name": "stdout",
     "output_type": "stream",
     "text": [
      "4482\n",
      "(4482, 1) (4482,)\n"
     ]
    },
    {
     "data": {
      "image/png": "[encoded data removed]",
      "text/plain": [
       "<matplotlib.figure.Figure at 0x1f8403f4390>"
      ]
     },
     "metadata": {},
     "output_type": "display_data"
    },
    {
     "data": {
      "image/png": "[encoded data removed]",
      "text/plain": [
       "<matplotlib.figure.Figure at 0x1f841532a58>"
      ]
     },
     "metadata": {},
     "output_type": "display_data"
    },
    {
     "data": {
      "image/png": "[encoded data removed]",
      "text/plain": [
       "<matplotlib.figure.Figure at 0x1f84111ca58>"
      ]
     },
     "metadata": {},
     "output_type": "display_data"
    },
    {
     "data": {
      "image/png": "[encoded data removed]",
      "text/plain": [
       "<matplotlib.figure.Figure at 0x1f840143a90>"
      ]
     },
     "metadata": {},
     "output_type": "display_data"
    }
   ],
   "source": [
    "# In practice, the k-means algorithm is very fast (one of the fastest clustering algorithms available)\n",
    "# But it falls in local minima. That’s why it can be useful to restart it several times.\n",
    "iteration=1000000\n",
    "# ,random_state=0\n",
    "data = KMeans(max_iter=iteration,n_clusters=4).fit(limitr)\n",
    "label = data.labels_\n",
    "lane1,lane2,lane3,lane4,lane=[],[],[],[],[]\n",
    "for q in range(len(label)):\n",
    "    lane=[limit[q][0],limit[q][1],limit[q][2]]\n",
    "    if (label[q]==0):\n",
    "        lane1.append(lane)\n",
    "    elif (label[q]==1):\n",
    "        lane2.append(lane)\n",
    "    elif (label[q]==2):\n",
    "        lane3.append(lane)\n",
    "    else:\n",
    "        lane4.append(lane)\n",
    "\n",
    "print(len(lane1))        \n",
    "     \n",
    "    \n",
    "lane1=np.array(lane1)\n",
    "if(len(lane1)!=0):\n",
    "    x1,y1,z1=lane1.T\n",
    "X1=lane1[:,0][:,np.newaxis]\n",
    "Y1=lane1[:,1]\n",
    "\n",
    "\n",
    "\n",
    "lane2=np.array(lane2)\n",
    "if(len(lane2)!=0):\n",
    "    x2,y2,z2=lane2.T\n",
    "X2=lane2[:,0][:,np.newaxis]\n",
    "Y2=lane2[:,1]\n",
    "\n",
    "\n",
    "lane3=np.array(lane3)\n",
    "if(len(lane3)!=0):\n",
    "    x3,y3,z3=lane3.T\n",
    "X3=lane3[:,0][:,np.newaxis]\n",
    "Y3=lane3[:,1]\n",
    "print(X1.shape,Y1.shape)\n",
    "\n",
    "\n",
    "lane4=np.array(lane4)\n",
    "if(len(lane4)!=0):\n",
    "    x4,y4,z4=lane4.T\n",
    "X4=lane4[:,0][:,np.newaxis]\n",
    "Y4=lane4[:,1]\n",
    "\n",
    "\n",
    "fig = plt.figure()\n",
    "ax = fig.add_subplot(111)\n",
    "ax.plot(rx, ry, ',')\n",
    "ax.plot(X1, Y1, ',', color='red')\n",
    "plt.savefig('lane_rough.png',dpi=400,bbox_inches='tight')\n",
    "plt.show()\n",
    "\n",
    "\n",
    "fig = plt.figure()\n",
    "ax = fig.add_subplot(111)\n",
    "ax.plot(rx, ry, ',')\n",
    "ax.plot(X2, Y2, ',', color='red')\n",
    "plt.savefig('lane_rough.png',dpi=400,bbox_inches='tight')\n",
    "plt.show()\n",
    "\n",
    "fig = plt.figure()\n",
    "ax = fig.add_subplot(111)\n",
    "ax.plot(rx, ry, ',')\n",
    "ax.plot(X3, Y3, ',', color='red')\n",
    "plt.savefig('lane_rough.png',dpi=400,bbox_inches='tight')\n",
    "plt.show()\n",
    "\n",
    "fig = plt.figure()\n",
    "ax = fig.add_subplot(111)\n",
    "ax.plot(rx, ry, ',')\n",
    "ax.plot(X4, Y4, ',', color='red')\n",
    "plt.savefig('lane_rough.png',dpi=400,bbox_inches='tight')\n",
    "plt.show()\n",
    "\n",
    "ox=original[:,0][:,np.newaxis]\n",
    "oy=original[:,1]\n"
   ]
  },
  {
   "cell_type": "code",
   "execution_count": 68,
   "metadata": {
    "collapsed": false,
    "deletable": true,
    "editable": true
   },
   "outputs": [
    {
     "name": "stdout",
     "output_type": "stream",
     "text": [
      "para [-0.2392211]\n"
     ]
    },
    {
     "data": {
      "text/plain": [
       "[<matplotlib.lines.Line2D at 0x1f840fa4198>]"
      ]
     },
     "execution_count": 68,
     "metadata": {},
     "output_type": "execute_result"
    },
    {
     "data": {
      "image/png": "[encoded data removed]",
      "text/plain": [
       "<matplotlib.figure.Figure at 0x1f84037f4e0>"
      ]
     },
     "metadata": {},
     "output_type": "display_data"
    }
   ],
   "source": [
    "model_ransac_all=linear_model.RANSACRegressor(linear_model.LinearRegression())\n",
    "model_ransac_all.fit(ox,oy)\n",
    "inlier_mask_all=model_ransac_all.inlier_mask_\n",
    "outlier_mask_all=np.logical_not(inlier_mask_all)\n",
    "\n",
    "linex = ox\n",
    "liney = model_all.predict(ox)\n",
    "alpha = model_all.coef_\n",
    "print('para',alpha)\n",
    "plt.plot(rx, ry, ',')\n",
    "plt.plot(linex, liney, color='yellow', linestyle='-', linewidth=2, label='lane1')"
   ]
  },
  {
   "cell_type": "code",
   "execution_count": 73,
   "metadata": {
    "collapsed": false,
    "deletable": true,
    "editable": true
   },
   "outputs": [
    {
     "data": {
      "image/png": "[encoded data removed]",
      "text/plain": [
       "<matplotlib.figure.Figure at 0x1f84013c908>"
      ]
     },
     "metadata": {},
     "output_type": "display_data"
    }
   ],
   "source": [
    "model=linear_model.LinearRegression()\n",
    "model.fit(X1,Y1)\n",
    "model2=linear_model.LinearRegression()\n",
    "model3=linear_model.LinearRegression()\n",
    "model2.fit(X2,Y2)\n",
    "model3.fit(X3,Y3)\n",
    "model4=linear_model.LinearRegression()\n",
    "model4.fit(X4,Y4)\n",
    "\n",
    "\n",
    "model_all=linear_model.LinearRegression()\n",
    "model_all.fit(ox,oy)\n",
    "\n",
    "model_ransac=linear_model.RANSACRegressor(linear_model.LinearRegression())\n",
    "model_ransac.fit(X1,Y1)\n",
    "inlier_mask=model_ransac.inlier_mask_\n",
    "outlier_mask=np.logical_not(inlier_mask)\n",
    "\n",
    "model_ransac2=linear_model.RANSACRegressor(linear_model.LinearRegression())\n",
    "model_ransac2.fit(X2,Y2)\n",
    "inlier_mask2=model_ransac2.inlier_mask_\n",
    "outlier_mask2=np.logical_not(inlier_mask2)\n",
    "\n",
    "model_ransac3=linear_model.RANSACRegressor(linear_model.LinearRegression())\n",
    "model_ransac3.fit(X3,Y3)\n",
    "inlier_mask3=model_ransac3.inlier_mask_\n",
    "outlier_mask3=np.logical_not(inlier_mask3)\n",
    "\n",
    "model_ransac4=linear_model.RANSACRegressor(linear_model.LinearRegression())\n",
    "model_ransac4.fit(X4,Y4)\n",
    "inlier_mask4=model_ransac4.inlier_mask_\n",
    "outlier_mask4=np.logical_not(inlier_mask4)\n",
    "\n",
    "line_X=X1\n",
    "line_y=model.predict(X1)\n",
    "line_y_ransac=model_ransac.predict(X1)\n",
    "\n",
    "line_X2=X2\n",
    "line_y2=model2.predict(X2)\n",
    "line_y_ransac2=model_ransac2.predict(X2)\n",
    "\n",
    "line_X3=X3\n",
    "line_y3=model3.predict(X3)\n",
    "line_y_ransac3=model_ransac3.predict(X3)\n",
    "\n",
    "line_X4=X4\n",
    "line_y4=model4.predict(X4)\n",
    "line_y_ransac4=model_ransac4.predict(X4)\n",
    "\n",
    "plt.plot(rx, ry, ',')\n",
    "\n",
    "\n",
    "\n",
    "\n",
    "plt.plot(line_X, line_y_ransac, color='yellow', linestyle='-', linewidth=2, label='lane1')\n",
    "plt.plot(line_X2, line_y_ransac2, color='red', linestyle='-',linewidth=2, label='lane2')\n",
    "plt.plot(line_X3, line_y_ransac3, color='green', linestyle='-',linewidth=2, label='lane3')\n",
    "plt.plot(line_X4, line_y_ransac4, color='black', linestyle='-',linewidth=2, label='lane4')\n",
    "plt.legend(loc='lower right')\n",
    "plt.show()\n",
    "\n"
   ]
  },
  {
   "cell_type": "code",
   "execution_count": null,
   "metadata": {
    "collapsed": false,
    "deletable": true,
    "editable": true
   },
   "outputs": [],
   "source": []
  },
  {
   "cell_type": "code",
   "execution_count": null,
   "metadata": {
    "collapsed": true,
    "deletable": true,
    "editable": true
   },
   "outputs": [],
   "source": []
  },
  {
   "cell_type": "code",
   "execution_count": null,
   "metadata": {
    "collapsed": true,
    "deletable": true,
    "editable": true
   },
   "outputs": [],
   "source": []
  },
  {
   "cell_type": "code",
   "execution_count": null,
   "metadata": {
    "collapsed": true,
    "deletable": true,
    "editable": true
   },
   "outputs": [],
   "source": []
  },
  {
   "cell_type": "code",
   "execution_count": null,
   "metadata": {
    "collapsed": true,
    "deletable": true,
    "editable": true
   },
   "outputs": [],
   "source": []
  },
  {
   "cell_type": "code",
   "execution_count": null,
   "metadata": {
    "collapsed": true,
    "deletable": true,
    "editable": true
   },
   "outputs": [],
   "source": []
  }
 ],
 "metadata": {
  "kernelspec": {
   "display_name": "Python 3",
   "language": "python",
   "name": "python3"
  },
  "language_info": {
   "codemirror_mode": {
    "name": "ipython",
    "version": 3
   },
   "file_extension": ".py",
   "mimetype": "text/x-python",
   "name": "python",
   "nbconvert_exporter": "python",
   "pygments_lexer": "ipython3",
   "version": "3.5.2"
  }
 },
 "nbformat": 4,
 "nbformat_minor": 2
}

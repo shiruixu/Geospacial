{
 "cells": [
  {
   "cell_type": "code",
   "execution_count": 1,
   "metadata": {
    "collapsed": true
   },
   "outputs": [],
   "source": [
    "import numpy as np\n",
    "import matplotlib.pyplot as plt\n",
    "import matplotlib.mlab as mlab\n",
    "from sklearn import linear_model\n",
    "from sklearn.cluster import KMeans\n",
    "import math\n",
    "\n",
    "get_ipython().run_line_magic('matplotlib', 'inline')"
   ]
  },
  {
   "cell_type": "code",
   "execution_count": 2,
   "metadata": {
    "collapsed": false
   },
   "outputs": [
    {
     "name": "stdout",
     "output_type": "stream",
     "text": [
      "430736\n"
     ]
    }
   ],
   "source": [
    "csv = open('final_project_data/final_project_point_cloud.fuse', 'r')\n",
    "data=[]\n",
    "num=0\n",
    "for line in csv:\n",
    "    ls=line.split(\" \")\n",
    "    data.append([float(ls[0]),float(ls[1]),float(ls[2]),float(ls[3][:-1])])\n",
    "    num += 1\n",
    "csv.close()\n",
    "data=np.array(data)\n",
    "#print(data)\n",
    "print(num)\n",
    "lat, long, height, i = data.T"
   ]
  },
  {
   "cell_type": "code",
   "execution_count": 3,
   "metadata": {
    "collapsed": false
   },
   "outputs": [
    {
     "name": "stdout",
     "output_type": "stream",
     "text": [
      "[ 45.9038834   11.02841352 232.4648      10.        ]\n"
     ]
    }
   ],
   "source": [
    "print(data[0])\n",
    "lat0 = data[0][0]\n",
    "lon0 = data[0][1]"
   ]
  },
  {
   "cell_type": "code",
   "execution_count": 4,
   "metadata": {
    "collapsed": false
   },
   "outputs": [
    {
     "data": {
      "text/plain": [
       "'\\ndef latlontoxy(lat1, lon1, lat0,lon0):\\n    R = 6378.137 # Radius of earth in KM\\n    dLat = lat2 * math.pi / 180 - lat1 * math.pi / 180\\n    dLon = lon2 * math.pi / 180 - lon1 * math.pi / 180\\n    a = math.sin(dLat/2) * math.sin(dLat/2) + math.cos(lat1 * math.pi / 180) * math.cos(lat2 * math.pi / 180) * math.sin(dLon/2) * math.sin(dLon/2);\\n    c = 2 * math.atan2(math.sqrt(a), math.sqrt(1-a));\\n    d = R * c\\n    return d * 1000 # meters\\n'"
      ]
     },
     "execution_count": 4,
     "metadata": {},
     "output_type": "execute_result"
    }
   ],
   "source": [
    "\"\"\"\n",
    "def latlontoxy(lat1, lon1, lat0,lon0):\n",
    "    R = 6378.137 # Radius of earth in KM\n",
    "    dLat = lat2 * math.pi / 180 - lat1 * math.pi / 180\n",
    "    dLon = lon2 * math.pi / 180 - lon1 * math.pi / 180\n",
    "    a = math.sin(dLat/2) * math.sin(dLat/2) + math.cos(lat1 * math.pi / 180) * math.cos(lat2 * math.pi / 180) * math.sin(dLon/2) * math.sin(dLon/2);\n",
    "    c = 2 * math.atan2(math.sqrt(a), math.sqrt(1-a));\n",
    "    d = R * c\n",
    "    return d * 1000 # meters\n",
    "\"\"\""
   ]
  },
  {
   "cell_type": "code",
   "execution_count": 5,
   "metadata": {
    "collapsed": false
   },
   "outputs": [],
   "source": [
    "def rot(x,y,co):\n",
    "    cosf=1/(1+co**2)\n",
    "    sinf=co/(1+co**2)\n",
    "    xt=(x*cosf + y*sinf)*0.01\n",
    "    yt=x*(-sinf)+y*cosf\n",
    "    return xt,yt"
   ]
  },
  {
   "cell_type": "code",
   "execution_count": 6,
   "metadata": {
    "collapsed": true
   },
   "outputs": [],
   "source": [
    "def latlontoxy(lat1, lon1, lat0,lon0):\n",
    "    m_per_deg_lat = 111132.954 - 559.822 * math.cos( 2.0 * lat0 ) + 1.175 * math.cos( 4.0 * lat0);\n",
    "    m_per_deg_lon = (3.14159265359/180 ) * 6367449 * math.cos ( lat0 );\n",
    "    x = (lat1-lat0) * m_per_deg_lat\n",
    "    y = (lon1-lon0) * m_per_deg_lon\n",
    "    return x,y"
   ]
  },
  {
   "cell_type": "code",
   "execution_count": 7,
   "metadata": {
    "collapsed": false
   },
   "outputs": [],
   "source": [
    "model = []\n",
    "for d in data:\n",
    "    h = np.zeros(4)\n",
    "    h[0],h[1]=latlontoxy(d[0],d[1],lat0,lon0)\n",
    "\n",
    "    h[2]=d[2]\n",
    "    h[3]=d[3]\n",
    "    model.append(h)\n",
    "model=np.array(model)"
   ]
  },
  {
   "cell_type": "code",
   "execution_count": 8,
   "metadata": {
    "collapsed": false
   },
   "outputs": [],
   "source": [
    "np.savetxt('b.csv',model, delimiter=' ')"
   ]
  },
  {
   "cell_type": "code",
   "execution_count": 9,
   "metadata": {
    "collapsed": false
   },
   "outputs": [],
   "source": [
    "x,y,z,i=model.T"
   ]
  },
  {
   "cell_type": "code",
   "execution_count": 10,
   "metadata": {
    "collapsed": false
   },
   "outputs": [
    {
     "data": {
      "image/png": "[encoded data removed]",
      "text/plain": [
       "<matplotlib.figure.Figure at 0x2618f84c390>"
      ]
     },
     "metadata": {},
     "output_type": "display_data"
    }
   ],
   "source": [
    "plt.hist(z,255)\n",
    "plt.show()"
   ]
  },
  {
   "cell_type": "code",
   "execution_count": 32,
   "metadata": {
    "collapsed": false
   },
   "outputs": [
    {
     "data": {
      "image/png": "[encoded data removed]",
      "text/plain": [
       "<matplotlib.figure.Figure at 0x2619494e3c8>"
      ]
     },
     "metadata": {},
     "output_type": "display_data"
    }
   ],
   "source": [
    "plt.hist(i)\n",
    "plt.show()"
   ]
  },
  {
   "cell_type": "code",
   "execution_count": null,
   "metadata": {
    "collapsed": false
   },
   "outputs": [],
   "source": [
    "zrange=max(z)-min(z)\n",
    "med=np.median(z)\n",
    "print(med)\n",
    "minimum=np.median(z)-0.005*zrange\n",
    "maximum=np.median(z)+0.02*zrange\n",
    "#mean=np.array(z).mean()\n",
    "#std=np.array(z).std()\n",
    "road_data=[ ]\n",
    "k=0\n",
    "for d in model:\n",
    "    if d[2]>=minimum and d[2]<=maximum:\n",
    "        road_data.append(d)\n",
    "        k=k+1\n",
    "road_data=np.array(road_data)\n",
    "rx, ry, rz, ri = road_data.T\n",
    "counts=plt.hist(rz, 14,color='black',alpha=0.5)\n",
    "#x=[mean+2*std]*100\n",
    "#x=np.array(x)\n",
    "#plt.plot(x)\n",
    "plt.show()\n",
    "print(k)"
   ]
  },
  {
   "cell_type": "code",
   "execution_count": 12,
   "metadata": {
    "collapsed": true
   },
   "outputs": [],
   "source": [
    "np.savetxt('c.csv',road_data, delimiter=' ')"
   ]
  },
  {
   "cell_type": "code",
   "execution_count": 13,
   "metadata": {
    "collapsed": false
   },
   "outputs": [
    {
     "data": {
      "image/png": "[encoded data removed]",
      "text/plain": [
       "<matplotlib.figure.Figure at 0x26194953e10>"
      ]
     },
     "metadata": {},
     "output_type": "display_data"
    },
    {
     "name": "stdout",
     "output_type": "stream",
     "text": [
      "78.0 101.0\n"
     ]
    },
    {
     "data": {
      "text/plain": [
       "<matplotlib.figure.Figure at 0x261936c1438>"
      ]
     },
     "metadata": {},
     "output_type": "display_data"
    },
    {
     "data": {
      "image/png": "[encoded data removed]",
      "text/plain": [
       "<matplotlib.figure.Figure at 0x261936c1cc0>"
      ]
     },
     "metadata": {},
     "output_type": "display_data"
    }
   ],
   "source": [
    "# draw pixel picture\n",
    "fig=plt.figure()\n",
    "road=fig.add_subplot(111)\n",
    "road.plot(rx,ry,',')# draw pixel\n",
    "plt.show()\n",
    "\n",
    "original=[]\n",
    "#intensity\n",
    "si= sorted(i)[int(0.997*len(i)):int(0.9995*len(i))]\n",
    "minl=min(si)\n",
    "maxl=max(si)\n",
    "print(\"{} {}\".format(minl, maxl))\n",
    "for e in road_data:\n",
    "    if e[3]>=minl and e[3]<=maxl:\n",
    "        original.append(e[:-1])\n",
    "original= np.array(original)\n",
    "lx, ly, lz = original.T\n",
    "plt.savefig('original.png',dpi=400,bbox_inches='tight')\n",
    "\n",
    "fig = plt.figure()\n",
    "ax = fig.add_subplot(111)\n",
    "ax.plot(rx, ry, ',')\n",
    "ax.plot(lx, ly, ',', color='red')\n",
    "plt.savefig('lane_rough.png',dpi=400,bbox_inches='tight')\n",
    "plt.show()\n",
    "\n",
    "#bnear(e,distance=0.3) > 5"
   ]
  },
  {
   "cell_type": "code",
   "execution_count": 14,
   "metadata": {
    "collapsed": false
   },
   "outputs": [
    {
     "data": {
      "text/plain": [
       "LinearRegression(copy_X=True, fit_intercept=True, n_jobs=1, normalize=False)"
      ]
     },
     "execution_count": 14,
     "metadata": {},
     "output_type": "execute_result"
    }
   ],
   "source": [
    "ox=original[:,0][:,np.newaxis]\n",
    "oy=original[:,1]\n",
    "\n",
    "model_all=linear_model.LinearRegression()\n",
    "model_all.fit(ox,oy)"
   ]
  },
  {
   "cell_type": "code",
   "execution_count": 24,
   "metadata": {
    "collapsed": true
   },
   "outputs": [],
   "source": [
    "np.savetxt('d.csv',original, delimiter=' ')"
   ]
  },
  {
   "cell_type": "code",
   "execution_count": 15,
   "metadata": {
    "collapsed": false
   },
   "outputs": [
    {
     "name": "stdout",
     "output_type": "stream",
     "text": [
      "para [-0.25754311]\n"
     ]
    },
    {
     "data": {
      "text/plain": [
       "[<matplotlib.lines.Line2D at 0x261954a9e48>]"
      ]
     },
     "execution_count": 15,
     "metadata": {},
     "output_type": "execute_result"
    },
    {
     "data": {
      "image/png": "[encoded data removed]",
      "text/plain": [
       "<matplotlib.figure.Figure at 0x2618f84c6d8>"
      ]
     },
     "metadata": {},
     "output_type": "display_data"
    }
   ],
   "source": [
    "model_ransac_all=linear_model.RANSACRegressor(linear_model.LinearRegression())\n",
    "model_ransac_all.fit(ox,oy)\n",
    "inlier_mask_all=model_ransac_all.inlier_mask_\n",
    "outlier_mask_all=np.logical_not(inlier_mask_all)\n",
    "\n",
    "linex = ox\n",
    "liney = model_all.predict(ox)\n",
    "alpha = model_all.coef_\n",
    "print('para',alpha)\n",
    "plt.plot(rx, ry, ',')\n",
    "plt.plot(linex, liney, color='yellow', linestyle='-', linewidth=2, label='lane1')"
   ]
  },
  {
   "cell_type": "code",
   "execution_count": 16,
   "metadata": {
    "collapsed": false
   },
   "outputs": [
    {
     "name": "stdout",
     "output_type": "stream",
     "text": [
      "(605, 2)\n"
     ]
    }
   ],
   "source": [
    "ts=[]\n",
    "for t in original:\n",
    "    first,second = rot(t[0],t[1],alpha)\n",
    "    ts.append([first,second])\n",
    "ts=np.asarray(ts)\n",
    "ts=ts.reshape(np.shape(ts)[0],2)\n",
    "print(np.shape(ts))\n",
    "tx,ty = ts.T"
   ]
  },
  {
   "cell_type": "code",
   "execution_count": 17,
   "metadata": {
    "collapsed": false
   },
   "outputs": [
    {
     "data": {
      "image/png": "[encoded data removed]",
      "text/plain": [
       "<matplotlib.figure.Figure at 0x2619476aeb8>"
      ]
     },
     "metadata": {},
     "output_type": "display_data"
    },
    {
     "data": {
      "image/png": "[encoded data removed]",
      "text/plain": [
       "<matplotlib.figure.Figure at 0x2619476acc0>"
      ]
     },
     "metadata": {},
     "output_type": "display_data"
    }
   ],
   "source": [
    "plt.hist(tx,255)\n",
    "plt.show()\n",
    "plt.hist(ty,255)\n",
    "plt.show()"
   ]
  },
  {
   "cell_type": "code",
   "execution_count": 18,
   "metadata": {
    "collapsed": false
   },
   "outputs": [
    {
     "data": {
      "text/plain": [
       "[<matplotlib.lines.Line2D at 0x26193ac3278>]"
      ]
     },
     "execution_count": 18,
     "metadata": {},
     "output_type": "execute_result"
    },
    {
     "data": {
      "image/png": "[encoded data removed]",
      "text/plain": [
       "<matplotlib.figure.Figure at 0x261947722e8>"
      ]
     },
     "metadata": {},
     "output_type": "display_data"
    }
   ],
   "source": [
    "fig = plt.figure()\n",
    "ax = fig.add_subplot(111)\n",
    "ax.plot(tx, ty, ',', color='red')"
   ]
  },
  {
   "cell_type": "code",
   "execution_count": 19,
   "metadata": {
    "collapsed": false
   },
   "outputs": [
    {
     "name": "stdout",
     "output_type": "stream",
     "text": [
      "(268, 1) (268,)\n"
     ]
    },
    {
     "data": {
      "image/png": "[encoded data removed]",
      "text/plain": [
       "<matplotlib.figure.Figure at 0x261949444e0>"
      ]
     },
     "metadata": {},
     "output_type": "display_data"
    },
    {
     "data": {
      "image/png": "[encoded data removed]",
      "text/plain": [
       "<matplotlib.figure.Figure at 0x26193cbcb38>"
      ]
     },
     "metadata": {},
     "output_type": "display_data"
    },
    {
     "data": {
      "image/png": "[encoded data removed]",
      "text/plain": [
       "<matplotlib.figure.Figure at 0x26193aea550>"
      ]
     },
     "metadata": {},
     "output_type": "display_data"
    }
   ],
   "source": [
    "# In practice, the k-means algorithm is very fast (one of the fastest clustering algorithms available)\n",
    "# But it falls in local minima. That’s why it can be useful to restart it several times.\n",
    "iteration=500000\n",
    "# ,random_state=0\n",
    "data = KMeans(max_iter=iteration,n_clusters=3).fit(ts)\n",
    "label = data.labels_\n",
    "lane1,lane2,lane3,lane_other,lane=[],[],[],[],[]\n",
    "for q in range(len(label)):\n",
    "    lane=[original[q][0],original[q][1],original[q][2]]\n",
    "    if (label[q]==0):\n",
    "        lane1.append(lane)\n",
    "    elif (label[q]==1):\n",
    "        lane2.append(lane)\n",
    "    elif (label[q]==2):\n",
    "        lane3.append(lane)\n",
    "    else:\n",
    "        lane_other.append(lane)\n",
    "        \n",
    "lane1=np.array(lane1)\n",
    "if(len(lane1)!=0):\n",
    "    x1,y1,z1=lane1.T\n",
    "# print(x1.shape,x1)\n",
    "X1=lane1[:,0][:,np.newaxis]\n",
    "#X2=list(lane1)\n",
    "Y1=lane1[:,1]\n",
    "#print(X1)\n",
    "#print(x1)\n",
    "# x1_1=[]\n",
    "# for element in x1:\n",
    "#     x1_1.append(element)\n",
    "\n",
    "\n",
    "lane2=np.array(lane2)\n",
    "\n",
    "if(len(lane2)!=0):\n",
    "    x2,y2,z2=lane2.T\n",
    "X2=lane2[:,0][:,np.newaxis]\n",
    "Y2=lane2[:,1]\n",
    "lane3=np.array(lane3)\n",
    "\n",
    "if(len(lane3)!=0):\n",
    "    x3,y3,z3=lane3.T\n",
    "X3=lane3[:,0][:,np.newaxis]\n",
    "Y3=lane3[:,1]\n",
    "print(X1.shape,Y1.shape)\n",
    "\n",
    "fig = plt.figure()\n",
    "ax = fig.add_subplot(111)\n",
    "ax.plot(rx, ry, ',')\n",
    "ax.plot(X3, Y3, ',', color='red')\n",
    "plt.savefig('lane_rough.png',dpi=400,bbox_inches='tight')\n",
    "plt.show()\n",
    "# In[25]:\n",
    "\n",
    "fig = plt.figure()\n",
    "ax = fig.add_subplot(111)\n",
    "ax.plot(rx, ry, ',')\n",
    "ax.plot(X2, Y2, ',', color='red')\n",
    "plt.savefig('lane_rough.png',dpi=400,bbox_inches='tight')\n",
    "plt.show()\n",
    "\n",
    "fig = plt.figure()\n",
    "ax = fig.add_subplot(111)\n",
    "ax.plot(rx, ry, ',')\n",
    "ax.plot(X1, Y1, ',', color='red')\n",
    "plt.savefig('lane_rough.png',dpi=400,bbox_inches='tight')\n",
    "plt.show()\n",
    "\n",
    "ox=original[:,0][:,np.newaxis]\n",
    "oy=original[:,1]\n"
   ]
  },
  {
   "cell_type": "code",
   "execution_count": 20,
   "metadata": {
    "collapsed": false
   },
   "outputs": [
    {
     "name": "stdout",
     "output_type": "stream",
     "text": [
      "para [-0.25754311]\n"
     ]
    },
    {
     "data": {
      "text/plain": [
       "[<matplotlib.lines.Line2D at 0x2619492c748>]"
      ]
     },
     "execution_count": 20,
     "metadata": {},
     "output_type": "execute_result"
    },
    {
     "data": {
      "image/png": "[encoded data removed]",
      "text/plain": [
       "<matplotlib.figure.Figure at 0x2619483a400>"
      ]
     },
     "metadata": {},
     "output_type": "display_data"
    }
   ],
   "source": [
    "model_ransac_all=linear_model.RANSACRegressor(linear_model.LinearRegression())\n",
    "model_ransac_all.fit(ox,oy)\n",
    "inlier_mask_all=model_ransac_all.inlier_mask_\n",
    "outlier_mask_all=np.logical_not(inlier_mask_all)\n",
    "\n",
    "linex = ox\n",
    "liney = model_all.predict(ox)\n",
    "alpha = model_all.coef_\n",
    "print('para',alpha)\n",
    "plt.plot(rx, ry, ',')\n",
    "plt.plot(linex, liney, color='yellow', linestyle='-', linewidth=2, label='lane1')"
   ]
  },
  {
   "cell_type": "code",
   "execution_count": 23,
   "metadata": {
    "collapsed": false
   },
   "outputs": [
    {
     "data": {
      "image/png": "[encoded data removed]",
      "text/plain": [
       "<matplotlib.figure.Figure at 0x2619491d4a8>"
      ]
     },
     "metadata": {},
     "output_type": "display_data"
    }
   ],
   "source": [
    "model=linear_model.LinearRegression()\n",
    "model.fit(X1,Y1)\n",
    "model2=linear_model.LinearRegression()\n",
    "model3=linear_model.LinearRegression()\n",
    "model2.fit(X2,Y2)\n",
    "model3.fit(X3,Y3)\n",
    "model_all=linear_model.LinearRegression()\n",
    "model_all.fit(ox,oy)\n",
    "\n",
    "model_ransac=linear_model.RANSACRegressor(linear_model.LinearRegression())\n",
    "model_ransac.fit(X1,Y1)\n",
    "inlier_mask=model_ransac.inlier_mask_\n",
    "outlier_mask=np.logical_not(inlier_mask)\n",
    "\n",
    "model_ransac2=linear_model.RANSACRegressor(linear_model.LinearRegression())\n",
    "model_ransac2.fit(X2,Y2)\n",
    "inlier_mask2=model_ransac2.inlier_mask_\n",
    "outlier_mask2=np.logical_not(inlier_mask2)\n",
    "\n",
    "model_ransac3=linear_model.RANSACRegressor(linear_model.LinearRegression())\n",
    "model_ransac3.fit(X3,Y3)\n",
    "inlier_mask3=model_ransac3.inlier_mask_\n",
    "outlier_mask3=np.logical_not(inlier_mask3)\n",
    "\n",
    "\n",
    "line_X=X1\n",
    "line_y=model.predict(X1)\n",
    "line_y_ransac=model_ransac.predict(X1)\n",
    "\n",
    "line_X2=X2\n",
    "line_y2=model2.predict(X2)\n",
    "line_y_ransac2=model_ransac2.predict(X2)\n",
    "\n",
    "line_X3=X3\n",
    "line_y=model3.predict(X3)\n",
    "line_y_ransac3=model_ransac3.predict(X3)\n",
    "\n",
    "plt.plot(rx, ry, ',')\n",
    "\n",
    "\n",
    "\n",
    "\n",
    "plt.plot(line_X, line_y_ransac, color='yellow', linestyle='-', linewidth=2, label='lane1')\n",
    "plt.plot(line_X2, line_y_ransac2, color='red', linestyle='-',linewidth=2, label='lane2')\n",
    "plt.plot(line_X3, line_y_ransac3, color='green', linestyle='-',linewidth=2, label='lane3')\n",
    "plt.legend(loc='lower right')\n",
    "plt.show()\n",
    "\n"
   ]
  },
  {
   "cell_type": "code",
   "execution_count": 22,
   "metadata": {
    "collapsed": false
   },
   "outputs": [
    {
     "name": "stdout",
     "output_type": "stream",
     "text": [
      "para [-0.25754311]\n"
     ]
    },
    {
     "data": {
      "text/plain": [
       "[<matplotlib.lines.Line2D at 0x2619491e400>]"
      ]
     },
     "execution_count": 22,
     "metadata": {},
     "output_type": "execute_result"
    },
    {
     "data": {
      "image/png": "[encoded data removed]",
      "text/plain": [
       "<matplotlib.figure.Figure at 0x26193b9d550>"
      ]
     },
     "metadata": {},
     "output_type": "display_data"
    }
   ],
   "source": [
    "\n",
    "\n",
    "\n",
    "model_ransac_all=linear_model.RANSACRegressor(linear_model.LinearRegression())\n",
    "model_ransac_all.fit(ox,oy)\n",
    "inlier_mask_all=model_ransac_all.inlier_mask_\n",
    "outlier_mask_all=np.logical_not(inlier_mask_all)\n",
    "\n",
    "linex = ox\n",
    "liney = model_all.predict(ox)\n",
    "alpha = model_all.coef_\n",
    "print('para',alpha)\n",
    "plt.plot(rx, ry, ',')\n",
    "plt.plot(linex, liney, color='yellow', linestyle='-', linewidth=2, label='lane1')"
   ]
  },
  {
   "cell_type": "code",
   "execution_count": null,
   "metadata": {
    "collapsed": true
   },
   "outputs": [],
   "source": []
  },
  {
   "cell_type": "code",
   "execution_count": null,
   "metadata": {
    "collapsed": true
   },
   "outputs": [],
   "source": []
  },
  {
   "cell_type": "code",
   "execution_count": null,
   "metadata": {
    "collapsed": true
   },
   "outputs": [],
   "source": []
  },
  {
   "cell_type": "code",
   "execution_count": null,
   "metadata": {
    "collapsed": true
   },
   "outputs": [],
   "source": []
  },
  {
   "cell_type": "code",
   "execution_count": null,
   "metadata": {
    "collapsed": true
   },
   "outputs": [],
   "source": []
  }
 ],
 "metadata": {
  "kernelspec": {
   "display_name": "Python 3",
   "language": "python",
   "name": "python3"
  },
  "language_info": {
   "codemirror_mode": {
    "name": "ipython",
    "version": 3
   },
   "file_extension": ".py",
   "mimetype": "text/x-python",
   "name": "python",
   "nbconvert_exporter": "python",
   "pygments_lexer": "ipython3",
   "version": "3.5.2"
  }
 },
 "nbformat": 4,
 "nbformat_minor": 2
}
